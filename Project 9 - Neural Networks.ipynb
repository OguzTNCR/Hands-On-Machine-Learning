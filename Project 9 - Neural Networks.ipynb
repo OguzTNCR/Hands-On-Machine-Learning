{
 "cells": [
  {
   "cell_type": "code",
   "execution_count": 4,
   "id": "42b1ab40",
   "metadata": {},
   "outputs": [
    {
     "name": "stdout",
     "output_type": "stream",
     "text": [
      "Keys dict_keys(['data', 'target', 'frame', 'target_names', 'DESCR', 'feature_names', 'filename', 'data_module'])\n",
      "Feature names ['sepal length (cm)', 'sepal width (cm)', 'petal length (cm)', 'petal width (cm)']\n"
     ]
    }
   ],
   "source": [
    "import numpy as np\n",
    "from sklearn.datasets import load_iris\n",
    "from sklearn.linear_model import Perceptron\n",
    "\n",
    "iris = load_iris(as_frame=True)\n",
    "print(\"Keys\", iris.keys())\n",
    "print(\"Feature names\", iris.feature_names)"
   ]
  },
  {
   "cell_type": "code",
   "execution_count": 9,
   "id": "5f83668b",
   "metadata": {},
   "outputs": [],
   "source": [
    "X = iris.data[[\"petal length (cm)\", \"petal width (cm)\"]].values\n",
    "y = (iris.target == 0)"
   ]
  },
  {
   "cell_type": "code",
   "execution_count": 3,
   "id": "8b300e04",
   "metadata": {},
   "outputs": [
    {
     "data": {
      "text/html": [
       "<style>#sk-container-id-1 {color: black;background-color: white;}#sk-container-id-1 pre{padding: 0;}#sk-container-id-1 div.sk-toggleable {background-color: white;}#sk-container-id-1 label.sk-toggleable__label {cursor: pointer;display: block;width: 100%;margin-bottom: 0;padding: 0.3em;box-sizing: border-box;text-align: center;}#sk-container-id-1 label.sk-toggleable__label-arrow:before {content: \"▸\";float: left;margin-right: 0.25em;color: #696969;}#sk-container-id-1 label.sk-toggleable__label-arrow:hover:before {color: black;}#sk-container-id-1 div.sk-estimator:hover label.sk-toggleable__label-arrow:before {color: black;}#sk-container-id-1 div.sk-toggleable__content {max-height: 0;max-width: 0;overflow: hidden;text-align: left;background-color: #f0f8ff;}#sk-container-id-1 div.sk-toggleable__content pre {margin: 0.2em;color: black;border-radius: 0.25em;background-color: #f0f8ff;}#sk-container-id-1 input.sk-toggleable__control:checked~div.sk-toggleable__content {max-height: 200px;max-width: 100%;overflow: auto;}#sk-container-id-1 input.sk-toggleable__control:checked~label.sk-toggleable__label-arrow:before {content: \"▾\";}#sk-container-id-1 div.sk-estimator input.sk-toggleable__control:checked~label.sk-toggleable__label {background-color: #d4ebff;}#sk-container-id-1 div.sk-label input.sk-toggleable__control:checked~label.sk-toggleable__label {background-color: #d4ebff;}#sk-container-id-1 input.sk-hidden--visually {border: 0;clip: rect(1px 1px 1px 1px);clip: rect(1px, 1px, 1px, 1px);height: 1px;margin: -1px;overflow: hidden;padding: 0;position: absolute;width: 1px;}#sk-container-id-1 div.sk-estimator {font-family: monospace;background-color: #f0f8ff;border: 1px dotted black;border-radius: 0.25em;box-sizing: border-box;margin-bottom: 0.5em;}#sk-container-id-1 div.sk-estimator:hover {background-color: #d4ebff;}#sk-container-id-1 div.sk-parallel-item::after {content: \"\";width: 100%;border-bottom: 1px solid gray;flex-grow: 1;}#sk-container-id-1 div.sk-label:hover label.sk-toggleable__label {background-color: #d4ebff;}#sk-container-id-1 div.sk-serial::before {content: \"\";position: absolute;border-left: 1px solid gray;box-sizing: border-box;top: 0;bottom: 0;left: 50%;z-index: 0;}#sk-container-id-1 div.sk-serial {display: flex;flex-direction: column;align-items: center;background-color: white;padding-right: 0.2em;padding-left: 0.2em;position: relative;}#sk-container-id-1 div.sk-item {position: relative;z-index: 1;}#sk-container-id-1 div.sk-parallel {display: flex;align-items: stretch;justify-content: center;background-color: white;position: relative;}#sk-container-id-1 div.sk-item::before, #sk-container-id-1 div.sk-parallel-item::before {content: \"\";position: absolute;border-left: 1px solid gray;box-sizing: border-box;top: 0;bottom: 0;left: 50%;z-index: -1;}#sk-container-id-1 div.sk-parallel-item {display: flex;flex-direction: column;z-index: 1;position: relative;background-color: white;}#sk-container-id-1 div.sk-parallel-item:first-child::after {align-self: flex-end;width: 50%;}#sk-container-id-1 div.sk-parallel-item:last-child::after {align-self: flex-start;width: 50%;}#sk-container-id-1 div.sk-parallel-item:only-child::after {width: 0;}#sk-container-id-1 div.sk-dashed-wrapped {border: 1px dashed gray;margin: 0 0.4em 0.5em 0.4em;box-sizing: border-box;padding-bottom: 0.4em;background-color: white;}#sk-container-id-1 div.sk-label label {font-family: monospace;font-weight: bold;display: inline-block;line-height: 1.2em;}#sk-container-id-1 div.sk-label-container {text-align: center;}#sk-container-id-1 div.sk-container {/* jupyter's `normalize.less` sets `[hidden] { display: none; }` but bootstrap.min.css set `[hidden] { display: none !important; }` so we also need the `!important` here to be able to override the default hidden behavior on the sphinx rendered scikit-learn.org. See: https://github.com/scikit-learn/scikit-learn/issues/21755 */display: inline-block !important;position: relative;}#sk-container-id-1 div.sk-text-repr-fallback {display: none;}</style><div id=\"sk-container-id-1\" class=\"sk-top-container\"><div class=\"sk-text-repr-fallback\"><pre>Perceptron(random_state=42)</pre><b>In a Jupyter environment, please rerun this cell to show the HTML representation or trust the notebook. <br />On GitHub, the HTML representation is unable to render, please try loading this page with nbviewer.org.</b></div><div class=\"sk-container\" hidden><div class=\"sk-item\"><div class=\"sk-estimator sk-toggleable\"><input class=\"sk-toggleable__control sk-hidden--visually\" id=\"sk-estimator-id-1\" type=\"checkbox\" checked><label for=\"sk-estimator-id-1\" class=\"sk-toggleable__label sk-toggleable__label-arrow\">Perceptron</label><div class=\"sk-toggleable__content\"><pre>Perceptron(random_state=42)</pre></div></div></div></div></div>"
      ],
      "text/plain": [
       "Perceptron(random_state=42)"
      ]
     },
     "execution_count": 3,
     "metadata": {},
     "output_type": "execute_result"
    }
   ],
   "source": [
    "perceptron_classifier = Perceptron(random_state=42)\n",
    "perceptron_classifier.fit(X, y)"
   ]
  },
  {
   "cell_type": "code",
   "execution_count": 4,
   "id": "6f9142b7",
   "metadata": {},
   "outputs": [
    {
     "data": {
      "text/plain": [
       "array([ True, False])"
      ]
     },
     "execution_count": 4,
     "metadata": {},
     "output_type": "execute_result"
    }
   ],
   "source": [
    "X_new = [[2, 0.5], [3, 1]]\n",
    "y_pred = perceptron_classifier.predict(X_new)\n",
    "y_pred"
   ]
  },
  {
   "cell_type": "code",
   "execution_count": 5,
   "id": "8f3cb632",
   "metadata": {},
   "outputs": [],
   "source": [
    "from sklearn.datasets import fetch_california_housing\n",
    "from sklearn.model_selection import train_test_split\n",
    "from sklearn.pipeline import Pipeline\n",
    "from sklearn.neural_network import MLPRegressor\n",
    "from sklearn.preprocessing import StandardScaler\n",
    "from sklearn.metrics import mean_squared_error"
   ]
  },
  {
   "cell_type": "code",
   "execution_count": 6,
   "id": "dacbc714",
   "metadata": {},
   "outputs": [
    {
     "name": "stderr",
     "output_type": "stream",
     "text": [
      "/Users/tuncer/miniconda3/envs/tensorflow/lib/python3.10/site-packages/sklearn/neural_network/_multilayer_perceptron.py:691: UserWarning: Training interrupted by user.\n",
      "  warnings.warn(\"Training interrupted by user.\")\n"
     ]
    },
    {
     "data": {
      "text/plain": [
       "0.5332635551826002"
      ]
     },
     "execution_count": 6,
     "metadata": {},
     "output_type": "execute_result"
    }
   ],
   "source": [
    "# Regression Using MLP\n",
    "\n",
    "housing = fetch_california_housing()\n",
    "X, y = housing.data, housing.target\n",
    "X_train, X_test, y_train, y_test = train_test_split(X, y, random_state=42)\n",
    "\n",
    "pipeline = Pipeline([(\"std_Scaler\", StandardScaler()),\n",
    "                    (\"mlp_reg\", MLPRegressor(hidden_layer_sizes=[50, 50, 50], random_state=42, max_iter=500)),\n",
    "                    ])\n",
    "\n",
    "\n",
    "pipeline.fit(X_train, y_train)\n",
    "y_pred = pipeline.predict(X_test)\n",
    "mean_squared_error(y_test, y_pred, squared=False)"
   ]
  },
  {
   "cell_type": "code",
   "execution_count": 7,
   "id": "6553aeb1",
   "metadata": {},
   "outputs": [
    {
     "data": {
      "text/plain": [
       "0.9736842105263158"
      ]
     },
     "execution_count": 7,
     "metadata": {},
     "output_type": "execute_result"
    }
   ],
   "source": [
    "# Classification using MLP\n",
    "\n",
    "from sklearn.neural_network import MLPClassifier\n",
    "from sklearn.datasets import load_iris\n",
    "\n",
    "iris = load_iris()\n",
    "X_train, X_test, y_train, y_test = train_test_split(iris.data, iris.target, random_state=43)\n",
    "\n",
    "pipeline = Pipeline([(\"std_scaler\", StandardScaler()),\n",
    "                    (\"mlp_class\", MLPClassifier(hidden_layer_sizes=[10, 10, 10], random_state=42, max_iter=800)),\n",
    "                    ])\n",
    "\n",
    "\n",
    "pipeline.fit(X_train, y_train)\n",
    "\n",
    "score = pipeline.score(X_test, y_test)\n",
    "score"
   ]
  },
  {
   "cell_type": "code",
   "execution_count": 9,
   "id": "2b94e891",
   "metadata": {},
   "outputs": [],
   "source": [
    "import tensorflow as tf\n",
    "fashion_mnist = tf.keras.datasets.fashion_mnist.load_data()\n",
    "(X_train_full, y_train_full), (X_test, y_test) = fashion_mnist\n",
    "X_train, X_valid, y_train, y_valid = train_test_split(X_train_full, y_train_full, test_size=0.083)\n",
    "class_names = [\"T-shirt/top\", \"Trouser\", \"Pullover\", \"Dress\",\n",
    "  \"Coat\",\"Sandal\", \"Shirt\", \"Sneaker\", \"Bag\", \"Ankle boot\"]"
   ]
  },
  {
   "cell_type": "code",
   "execution_count": 12,
   "id": "9b605838",
   "metadata": {},
   "outputs": [],
   "source": [
    "# Scaling the data\n",
    "\n",
    "X_train, X_test, X_valid = X_train / 255.0, X_test / 255.0, X_valid / 255.0"
   ]
  },
  {
   "cell_type": "code",
   "execution_count": 13,
   "id": "70bbc9d4",
   "metadata": {},
   "outputs": [
    {
     "name": "stdout",
     "output_type": "stream",
     "text": [
      "Metal device set to: Apple M2\n"
     ]
    },
    {
     "name": "stderr",
     "output_type": "stream",
     "text": [
      "2023-03-01 15:14:45.193316: I tensorflow/core/common_runtime/pluggable_device/pluggable_device_factory.cc:306] Could not identify NUMA node of platform GPU ID 0, defaulting to 0. Your kernel may not have been built with NUMA support.\n",
      "2023-03-01 15:14:45.193357: I tensorflow/core/common_runtime/pluggable_device/pluggable_device_factory.cc:272] Created TensorFlow device (/job:localhost/replica:0/task:0/device:GPU:0 with 0 MB memory) -> physical PluggableDevice (device: 0, name: METAL, pci bus id: <undefined>)\n"
     ]
    }
   ],
   "source": [
    "tf.random.set_seed(42)\n",
    "\n",
    "\n",
    "model = tf.keras.Sequential()\n",
    "model.add(tf.keras.layers.InputLayer(input_shape=[28, 28]))\n",
    "model.add(tf.keras.layers.Flatten())\n",
    "model.add(tf.keras.layers.Dense(300, activation=\"relu\"))\n",
    "model.add(tf.keras.layers.Dense(100, activation=\"relu\"))\n",
    "model.add(tf.keras.layers.Dense(len(class_names), activation=\"softmax\"))\n",
    "\n",
    "\n",
    "\n",
    "\n"
   ]
  },
  {
   "cell_type": "code",
   "execution_count": 14,
   "id": "2cab9e27",
   "metadata": {},
   "outputs": [
    {
     "name": "stdout",
     "output_type": "stream",
     "text": [
      "Model: \"sequential\"\n",
      "_________________________________________________________________\n",
      " Layer (type)                Output Shape              Param #   \n",
      "=================================================================\n",
      " flatten (Flatten)           (None, 784)               0         \n",
      "                                                                 \n",
      " dense (Dense)               (None, 300)               235500    \n",
      "                                                                 \n",
      " dense_1 (Dense)             (None, 100)               30100     \n",
      "                                                                 \n",
      " dense_2 (Dense)             (None, 10)                1010      \n",
      "                                                                 \n",
      "=================================================================\n",
      "Total params: 266,610\n",
      "Trainable params: 266,610\n",
      "Non-trainable params: 0\n",
      "_________________________________________________________________\n"
     ]
    }
   ],
   "source": [
    "model.summary()"
   ]
  },
  {
   "cell_type": "code",
   "execution_count": 15,
   "id": "163c7bfb",
   "metadata": {},
   "outputs": [
    {
     "data": {
      "text/plain": [
       "[<keras.layers.reshaping.flatten.Flatten at 0x2aab3ff40>,\n",
       " <keras.layers.core.dense.Dense at 0x2aab9f5e0>,\n",
       " <keras.layers.core.dense.Dense at 0x2aab9db70>,\n",
       " <keras.layers.core.dense.Dense at 0x2ab412f50>]"
      ]
     },
     "execution_count": 15,
     "metadata": {},
     "output_type": "execute_result"
    }
   ],
   "source": [
    "model.layers"
   ]
  },
  {
   "cell_type": "code",
   "execution_count": 18,
   "id": "b8927785",
   "metadata": {},
   "outputs": [],
   "source": [
    "from tensorflow.keras.optimizers.legacy import SGD\n",
    "\n",
    "model.compile(loss=\"sparse_categorical_crossentropy\",\n",
    "             optimizer=SGD(),\n",
    "             metrics=[\"accuracy\"],\n",
    "             )"
   ]
  },
  {
   "cell_type": "code",
   "execution_count": 19,
   "id": "ce168e61",
   "metadata": {
    "scrolled": true
   },
   "outputs": [
    {
     "name": "stdout",
     "output_type": "stream",
     "text": [
      "Epoch 1/30\n",
      "  12/1720 [..............................] - ETA: 8s - loss: 2.1533 - accuracy: 0.3229  "
     ]
    },
    {
     "name": "stderr",
     "output_type": "stream",
     "text": [
      "2023-03-01 15:21:19.752347: I tensorflow/core/grappler/optimizers/custom_graph_optimizer_registry.cc:114] Plugin optimizer for device_type GPU is enabled.\n"
     ]
    },
    {
     "name": "stdout",
     "output_type": "stream",
     "text": [
      "1720/1720 [==============================] - ETA: 0s - loss: 0.7123 - accuracy: 0.7646"
     ]
    },
    {
     "name": "stderr",
     "output_type": "stream",
     "text": [
      "2023-03-01 15:21:27.103403: I tensorflow/core/grappler/optimizers/custom_graph_optimizer_registry.cc:114] Plugin optimizer for device_type GPU is enabled.\n"
     ]
    },
    {
     "name": "stdout",
     "output_type": "stream",
     "text": [
      "1720/1720 [==============================] - 8s 4ms/step - loss: 0.7123 - accuracy: 0.7646 - val_loss: 0.5852 - val_accuracy: 0.7992\n",
      "Epoch 2/30\n",
      "1720/1720 [==============================] - 7s 4ms/step - loss: 0.4868 - accuracy: 0.8310 - val_loss: 0.4568 - val_accuracy: 0.8438\n",
      "Epoch 3/30\n",
      "1720/1720 [==============================] - 7s 4ms/step - loss: 0.4423 - accuracy: 0.8459 - val_loss: 0.4432 - val_accuracy: 0.8426\n",
      "Epoch 4/30\n",
      "1720/1720 [==============================] - 7s 4ms/step - loss: 0.4140 - accuracy: 0.8546 - val_loss: 0.4200 - val_accuracy: 0.8528\n",
      "Epoch 5/30\n",
      "1720/1720 [==============================] - 7s 4ms/step - loss: 0.3940 - accuracy: 0.8625 - val_loss: 0.4026 - val_accuracy: 0.8612\n",
      "Epoch 6/30\n",
      "1720/1720 [==============================] - 7s 4ms/step - loss: 0.3779 - accuracy: 0.8674 - val_loss: 0.3959 - val_accuracy: 0.8633\n",
      "Epoch 7/30\n",
      "1720/1720 [==============================] - 7s 4ms/step - loss: 0.3654 - accuracy: 0.8711 - val_loss: 0.4748 - val_accuracy: 0.8251\n",
      "Epoch 8/30\n",
      "1720/1720 [==============================] - 7s 4ms/step - loss: 0.3539 - accuracy: 0.8737 - val_loss: 0.3664 - val_accuracy: 0.8703\n",
      "Epoch 9/30\n",
      "1720/1720 [==============================] - 7s 4ms/step - loss: 0.3427 - accuracy: 0.8781 - val_loss: 0.3611 - val_accuracy: 0.8755\n",
      "Epoch 10/30\n",
      "1720/1720 [==============================] - 8s 4ms/step - loss: 0.3337 - accuracy: 0.8818 - val_loss: 0.3529 - val_accuracy: 0.8783\n",
      "Epoch 11/30\n",
      "1720/1720 [==============================] - 7s 4ms/step - loss: 0.3245 - accuracy: 0.8847 - val_loss: 0.3542 - val_accuracy: 0.8741\n",
      "Epoch 12/30\n",
      "1720/1720 [==============================] - 7s 4ms/step - loss: 0.3172 - accuracy: 0.8862 - val_loss: 0.3625 - val_accuracy: 0.8701\n",
      "Epoch 13/30\n",
      "1720/1720 [==============================] - 8s 4ms/step - loss: 0.3103 - accuracy: 0.8894 - val_loss: 0.3371 - val_accuracy: 0.8815\n",
      "Epoch 14/30\n",
      "1720/1720 [==============================] - 8s 4ms/step - loss: 0.3034 - accuracy: 0.8910 - val_loss: 0.3269 - val_accuracy: 0.8855\n",
      "Epoch 15/30\n",
      "1720/1720 [==============================] - 8s 4ms/step - loss: 0.2956 - accuracy: 0.8933 - val_loss: 0.3911 - val_accuracy: 0.8516\n",
      "Epoch 16/30\n",
      "1720/1720 [==============================] - 7s 4ms/step - loss: 0.2899 - accuracy: 0.8953 - val_loss: 0.3459 - val_accuracy: 0.8767\n",
      "Epoch 17/30\n",
      "1720/1720 [==============================] - 8s 4ms/step - loss: 0.2836 - accuracy: 0.8974 - val_loss: 0.3323 - val_accuracy: 0.8789\n",
      "Epoch 18/30\n",
      "1720/1720 [==============================] - 8s 4ms/step - loss: 0.2789 - accuracy: 0.8990 - val_loss: 0.3560 - val_accuracy: 0.8701\n",
      "Epoch 19/30\n",
      "1720/1720 [==============================] - 8s 4ms/step - loss: 0.2737 - accuracy: 0.9024 - val_loss: 0.3611 - val_accuracy: 0.8713\n",
      "Epoch 20/30\n",
      "1720/1720 [==============================] - 9s 5ms/step - loss: 0.2682 - accuracy: 0.9039 - val_loss: 0.3244 - val_accuracy: 0.8837\n",
      "Epoch 21/30\n",
      "1720/1720 [==============================] - 8s 4ms/step - loss: 0.2637 - accuracy: 0.9053 - val_loss: 0.3301 - val_accuracy: 0.8865\n",
      "Epoch 22/30\n",
      "1720/1720 [==============================] - 8s 5ms/step - loss: 0.2586 - accuracy: 0.9065 - val_loss: 0.3135 - val_accuracy: 0.8920\n",
      "Epoch 23/30\n",
      "1720/1720 [==============================] - 8s 4ms/step - loss: 0.2533 - accuracy: 0.9084 - val_loss: 0.3180 - val_accuracy: 0.8833\n",
      "Epoch 24/30\n",
      "1720/1720 [==============================] - 8s 4ms/step - loss: 0.2506 - accuracy: 0.9103 - val_loss: 0.3118 - val_accuracy: 0.8880\n",
      "Epoch 25/30\n",
      "1720/1720 [==============================] - 8s 4ms/step - loss: 0.2450 - accuracy: 0.9129 - val_loss: 0.3053 - val_accuracy: 0.8888\n",
      "Epoch 26/30\n",
      "1720/1720 [==============================] - 8s 5ms/step - loss: 0.2426 - accuracy: 0.9130 - val_loss: 0.3251 - val_accuracy: 0.8845\n",
      "Epoch 27/30\n",
      "1720/1720 [==============================] - 8s 4ms/step - loss: 0.2377 - accuracy: 0.9141 - val_loss: 0.3309 - val_accuracy: 0.8797\n",
      "Epoch 28/30\n",
      "1720/1720 [==============================] - 8s 4ms/step - loss: 0.2328 - accuracy: 0.9156 - val_loss: 0.3034 - val_accuracy: 0.8892\n",
      "Epoch 29/30\n",
      "1720/1720 [==============================] - 7s 4ms/step - loss: 0.2299 - accuracy: 0.9174 - val_loss: 0.3191 - val_accuracy: 0.8886\n",
      "Epoch 30/30\n",
      "1720/1720 [==============================] - 7s 4ms/step - loss: 0.2252 - accuracy: 0.9187 - val_loss: 0.3388 - val_accuracy: 0.8783\n"
     ]
    }
   ],
   "source": [
    "history = model.fit(X_train, y_train, epochs=30, validation_data=(X_valid, y_valid))"
   ]
  },
  {
   "cell_type": "code",
   "execution_count": 25,
   "id": "542626c4",
   "metadata": {},
   "outputs": [
    {
     "data": {
      "text/plain": [
       "<AxesSubplot: >"
      ]
     },
     "execution_count": 25,
     "metadata": {},
     "output_type": "execute_result"
    },
    {
     "data": {
      "image/png": "[encoded data removed]",
      "text/plain": [
       "<Figure size 640x480 with 1 Axes>"
      ]
     },
     "metadata": {},
     "output_type": "display_data"
    }
   ],
   "source": [
    "import matplotlib.pyplot as plt\n",
    "import pandas as pd\n",
    "\n",
    "pd.DataFrame(history.history).plot(xlim=[0, 30], ylim=[0, 1], grid = True, style=[\"r-.\", \"r-\", \"b-.\", \"b-\"])"
   ]
  },
  {
   "cell_type": "code",
   "execution_count": 27,
   "id": "10c8f8d3",
   "metadata": {
    "scrolled": true
   },
   "outputs": [
    {
     "name": "stdout",
     "output_type": "stream",
     "text": [
      "Epoch 1/20\n",
      "1720/1720 [==============================] - 7s 4ms/step - loss: 0.1607 - accuracy: 0.9430 - val_loss: 0.3068 - val_accuracy: 0.8942\n",
      "Epoch 2/20\n",
      "1720/1720 [==============================] - 7s 4ms/step - loss: 0.1589 - accuracy: 0.9434 - val_loss: 0.2962 - val_accuracy: 0.8930\n",
      "Epoch 3/20\n",
      "1720/1720 [==============================] - 7s 4ms/step - loss: 0.1559 - accuracy: 0.9444 - val_loss: 0.3208 - val_accuracy: 0.8857\n",
      "Epoch 4/20\n",
      "1720/1720 [==============================] - 8s 4ms/step - loss: 0.1538 - accuracy: 0.9452 - val_loss: 0.3057 - val_accuracy: 0.8968\n",
      "Epoch 5/20\n",
      "1720/1720 [==============================] - 7s 4ms/step - loss: 0.1508 - accuracy: 0.9465 - val_loss: 0.3076 - val_accuracy: 0.8968\n",
      "Epoch 6/20\n",
      "1720/1720 [==============================] - 7s 4ms/step - loss: 0.1490 - accuracy: 0.9478 - val_loss: 0.3268 - val_accuracy: 0.8898\n",
      "Epoch 7/20\n",
      "1720/1720 [==============================] - 7s 4ms/step - loss: 0.1466 - accuracy: 0.9477 - val_loss: 0.3380 - val_accuracy: 0.8805\n",
      "Epoch 8/20\n",
      "1720/1720 [==============================] - 7s 4ms/step - loss: 0.1442 - accuracy: 0.9493 - val_loss: 0.3242 - val_accuracy: 0.8888\n",
      "Epoch 9/20\n",
      "1720/1720 [==============================] - 7s 4ms/step - loss: 0.1418 - accuracy: 0.9500 - val_loss: 0.3145 - val_accuracy: 0.8910\n",
      "Epoch 10/20\n",
      "1720/1720 [==============================] - 7s 4ms/step - loss: 0.1388 - accuracy: 0.9511 - val_loss: 0.3223 - val_accuracy: 0.8878\n",
      "Epoch 11/20\n",
      "1720/1720 [==============================] - 7s 4ms/step - loss: 0.1378 - accuracy: 0.9513 - val_loss: 0.3170 - val_accuracy: 0.8924\n",
      "Epoch 12/20\n",
      "1720/1720 [==============================] - 8s 4ms/step - loss: 0.1345 - accuracy: 0.9532 - val_loss: 0.3649 - val_accuracy: 0.8843\n",
      "Epoch 13/20\n",
      "1720/1720 [==============================] - 8s 4ms/step - loss: 0.1323 - accuracy: 0.9534 - val_loss: 0.3091 - val_accuracy: 0.8942\n",
      "Epoch 14/20\n",
      "1720/1720 [==============================] - 8s 4ms/step - loss: 0.1317 - accuracy: 0.9535 - val_loss: 0.3088 - val_accuracy: 0.8948\n",
      "Epoch 15/20\n",
      "1720/1720 [==============================] - 7s 4ms/step - loss: 0.1278 - accuracy: 0.9554 - val_loss: 0.5782 - val_accuracy: 0.8255\n",
      "Epoch 16/20\n",
      "1720/1720 [==============================] - 7s 4ms/step - loss: 0.1269 - accuracy: 0.9556 - val_loss: 0.3432 - val_accuracy: 0.8857\n",
      "Epoch 17/20\n",
      "1720/1720 [==============================] - 7s 4ms/step - loss: 0.1230 - accuracy: 0.9570 - val_loss: 0.3384 - val_accuracy: 0.8892\n",
      "Epoch 18/20\n",
      "1720/1720 [==============================] - 7s 4ms/step - loss: 0.1218 - accuracy: 0.9576 - val_loss: 0.3546 - val_accuracy: 0.8845\n",
      "Epoch 19/20\n",
      "1720/1720 [==============================] - 7s 4ms/step - loss: 0.1199 - accuracy: 0.9586 - val_loss: 0.4195 - val_accuracy: 0.8661\n",
      "Epoch 20/20\n",
      "1720/1720 [==============================] - 8s 4ms/step - loss: 0.1185 - accuracy: 0.9576 - val_loss: 0.3342 - val_accuracy: 0.8863\n"
     ]
    }
   ],
   "source": [
    "history = model.fit(X_train, y_train, epochs = 20, validation_data=(X_valid, y_valid))"
   ]
  },
  {
   "cell_type": "code",
   "execution_count": 32,
   "id": "97af6a81",
   "metadata": {},
   "outputs": [
    {
     "data": {
      "text/plain": [
       "<AxesSubplot: >"
      ]
     },
     "execution_count": 32,
     "metadata": {},
     "output_type": "execute_result"
    },
    {
     "data": {
      "image/png": "[encoded data removed]",
      "text/plain": [
       "<Figure size 640x480 with 1 Axes>"
      ]
     },
     "metadata": {},
     "output_type": "display_data"
    }
   ],
   "source": [
    "pd.DataFrame(history.history).plot(xlim=[0, 20], ylim=[0, 1], grid = True, style=[\"r-.\", \"r-\", \"b-.\", \"b-\"])"
   ]
  },
  {
   "cell_type": "code",
   "execution_count": 34,
   "id": "8ab042ab",
   "metadata": {
    "scrolled": true
   },
   "outputs": [
    {
     "name": "stdout",
     "output_type": "stream",
     "text": [
      "Epoch 1/20\n",
      "1720/1720 [==============================] - 7s 4ms/step - loss: 0.1156 - accuracy: 0.9599 - val_loss: 0.3290 - val_accuracy: 0.8936\n",
      "Epoch 2/20\n",
      "1720/1720 [==============================] - 7s 4ms/step - loss: 0.1142 - accuracy: 0.9604 - val_loss: 0.3111 - val_accuracy: 0.8988\n",
      "Epoch 3/20\n",
      "1720/1720 [==============================] - 9s 5ms/step - loss: 0.1125 - accuracy: 0.9610 - val_loss: 0.3510 - val_accuracy: 0.8829\n",
      "Epoch 4/20\n",
      "1720/1720 [==============================] - 7s 4ms/step - loss: 0.1105 - accuracy: 0.9619 - val_loss: 0.3193 - val_accuracy: 0.9008\n",
      "Epoch 5/20\n",
      "1720/1720 [==============================] - 7s 4ms/step - loss: 0.1086 - accuracy: 0.9623 - val_loss: 0.3279 - val_accuracy: 0.8970\n",
      "Epoch 6/20\n",
      "1720/1720 [==============================] - 7s 4ms/step - loss: 0.1070 - accuracy: 0.9626 - val_loss: 0.3497 - val_accuracy: 0.8908\n",
      "Epoch 7/20\n",
      "1720/1720 [==============================] - 7s 4ms/step - loss: 0.1056 - accuracy: 0.9638 - val_loss: 0.3332 - val_accuracy: 0.8934\n",
      "Epoch 8/20\n",
      "1720/1720 [==============================] - 7s 4ms/step - loss: 0.1035 - accuracy: 0.9647 - val_loss: 0.3775 - val_accuracy: 0.8851\n",
      "Epoch 9/20\n",
      "1720/1720 [==============================] - 7s 4ms/step - loss: 0.1017 - accuracy: 0.9650 - val_loss: 0.3547 - val_accuracy: 0.8900\n",
      "Epoch 10/20\n",
      "1720/1720 [==============================] - 8s 5ms/step - loss: 0.0992 - accuracy: 0.9655 - val_loss: 0.3392 - val_accuracy: 0.8948\n",
      "Epoch 11/20\n",
      "1720/1720 [==============================] - 7s 4ms/step - loss: 0.0986 - accuracy: 0.9660 - val_loss: 0.3346 - val_accuracy: 0.8964\n",
      "Epoch 12/20\n",
      "1720/1720 [==============================] - 8s 4ms/step - loss: 0.0962 - accuracy: 0.9675 - val_loss: 0.4372 - val_accuracy: 0.8785\n",
      "Epoch 13/20\n",
      "1720/1720 [==============================] - 8s 4ms/step - loss: 0.0938 - accuracy: 0.9683 - val_loss: 0.3404 - val_accuracy: 0.8924\n",
      "Epoch 14/20\n",
      "1720/1720 [==============================] - 7s 4ms/step - loss: 0.0951 - accuracy: 0.9670 - val_loss: 0.3406 - val_accuracy: 0.8950\n",
      "Epoch 15/20\n",
      "1720/1720 [==============================] - 7s 4ms/step - loss: 0.0906 - accuracy: 0.9692 - val_loss: 0.5104 - val_accuracy: 0.8518\n",
      "Epoch 16/20\n",
      "1720/1720 [==============================] - 8s 4ms/step - loss: 0.0907 - accuracy: 0.9693 - val_loss: 0.3650 - val_accuracy: 0.8857\n",
      "Epoch 17/20\n",
      "1720/1720 [==============================] - 7s 4ms/step - loss: 0.0876 - accuracy: 0.9699 - val_loss: 0.3612 - val_accuracy: 0.8920\n",
      "Epoch 18/20\n",
      "1720/1720 [==============================] - 7s 4ms/step - loss: 0.0874 - accuracy: 0.9708 - val_loss: 0.3924 - val_accuracy: 0.8861\n",
      "Epoch 19/20\n",
      "1720/1720 [==============================] - 7s 4ms/step - loss: 0.0857 - accuracy: 0.9712 - val_loss: 0.4516 - val_accuracy: 0.8683\n",
      "Epoch 20/20\n",
      "1720/1720 [==============================] - 7s 4ms/step - loss: 0.0838 - accuracy: 0.9707 - val_loss: 0.3628 - val_accuracy: 0.8890\n"
     ]
    },
    {
     "data": {
      "text/plain": [
       "<keras.callbacks.History at 0x2e4606fb0>"
      ]
     },
     "execution_count": 34,
     "metadata": {},
     "output_type": "execute_result"
    }
   ],
   "source": [
    "model.fit(X_train, y_train, epochs=20, validation_data=(X_valid, y_valid))"
   ]
  },
  {
   "cell_type": "code",
   "execution_count": 36,
   "id": "b92cedf6",
   "metadata": {},
   "outputs": [
    {
     "name": "stdout",
     "output_type": "stream",
     "text": [
      "313/313 [==============================] - 1s 3ms/step - loss: 0.4033 - accuracy: 0.8844\n"
     ]
    },
    {
     "data": {
      "text/plain": [
       "[0.40326324105262756, 0.8844000697135925]"
      ]
     },
     "execution_count": 36,
     "metadata": {},
     "output_type": "execute_result"
    }
   ],
   "source": [
    "model.evaluate(X_test, y_test)"
   ]
  },
  {
   "cell_type": "code",
   "execution_count": 47,
   "id": "18c9c907",
   "metadata": {},
   "outputs": [
    {
     "name": "stdout",
     "output_type": "stream",
     "text": [
      "1/1 [==============================] - 0s 15ms/step\n"
     ]
    },
    {
     "data": {
      "text/plain": [
       "array([[0., 0., 0., 0., 0., 0., 0., 0., 0., 1.],\n",
       "       [0., 0., 1., 0., 0., 0., 0., 0., 0., 0.],\n",
       "       [0., 1., 0., 0., 0., 0., 0., 0., 0., 0.]], dtype=float32)"
      ]
     },
     "execution_count": 47,
     "metadata": {},
     "output_type": "execute_result"
    }
   ],
   "source": [
    "X_new = X_test[ :3]\n",
    "y_proba = model.predict(X_new)\n",
    "y_proba.round(3)"
   ]
  },
  {
   "cell_type": "code",
   "execution_count": 50,
   "id": "c7504346",
   "metadata": {},
   "outputs": [
    {
     "data": {
      "text/plain": [
       "array(['Ankle boot', 'Pullover', 'Trouser'], dtype='<U11')"
      ]
     },
     "execution_count": 50,
     "metadata": {},
     "output_type": "execute_result"
    }
   ],
   "source": [
    "y_pred = y_proba.argmax(axis = -1)\n",
    "np.array(class_names)[y_pred]"
   ]
  },
  {
   "cell_type": "code",
   "execution_count": 53,
   "id": "a8f89899",
   "metadata": {},
   "outputs": [],
   "source": [
    "housing = fetch_california_housing()\n",
    "X, y = housing.data, housing.target\n",
    "X_train_full, X_test, y_train_full, y_test = train_test_split(X, y, random_state=42, test_size=0.2)\n",
    "X_train, X_valid, y_train, y_valid = train_test_split(X_train_full, y_train_full,random_state=43, test_size=0.2)\n",
    "\n",
    "normalization_layer = tf.keras.layers.Normalization(input_shape = X_train.shape[1: ])\n",
    "\n",
    "model = tf.keras.Sequential([\n",
    "    normalization_layer,\n",
    "    tf.keras.layers.Dense(50, activation=\"relu\"),\n",
    "    tf.keras.layers.Dense(50, activation=\"relu\"),\n",
    "    tf.keras.layers.Dense(50, activation=\"relu\"),\n",
    "    tf.keras.layers.Dense(1),\n",
    "])\n"
   ]
  },
  {
   "cell_type": "code",
   "execution_count": 57,
   "id": "25f01c24",
   "metadata": {},
   "outputs": [],
   "source": [
    "from tensorflow.keras.optimizers.legacy import Adam\n",
    "\n",
    "model.compile(loss = \"mse\",\n",
    "             optimizer = Adam(),\n",
    "             metrics = [\"RootMeanSquaredError\"])\n",
    "normalization_layer.adapt(X_train)"
   ]
  },
  {
   "cell_type": "code",
   "execution_count": 58,
   "id": "2f0d5c9f",
   "metadata": {
    "scrolled": true
   },
   "outputs": [
    {
     "name": "stdout",
     "output_type": "stream",
     "text": [
      "Epoch 1/30\n"
     ]
    },
    {
     "name": "stderr",
     "output_type": "stream",
     "text": [
      "2023-03-01 19:11:43.986330: I tensorflow/core/grappler/optimizers/custom_graph_optimizer_registry.cc:114] Plugin optimizer for device_type GPU is enabled.\n"
     ]
    },
    {
     "name": "stdout",
     "output_type": "stream",
     "text": [
      "413/413 [==============================] - ETA: 0s - loss: 0.7292 - root_mean_squared_error: 0.8539"
     ]
    },
    {
     "name": "stderr",
     "output_type": "stream",
     "text": [
      "2023-03-01 19:11:46.329467: I tensorflow/core/grappler/optimizers/custom_graph_optimizer_registry.cc:114] Plugin optimizer for device_type GPU is enabled.\n"
     ]
    },
    {
     "name": "stdout",
     "output_type": "stream",
     "text": [
      "413/413 [==============================] - 3s 6ms/step - loss: 0.7292 - root_mean_squared_error: 0.8539 - val_loss: 0.3971 - val_root_mean_squared_error: 0.6301\n",
      "Epoch 2/30\n",
      "413/413 [==============================] - 2s 5ms/step - loss: 0.3983 - root_mean_squared_error: 0.6311 - val_loss: 0.3724 - val_root_mean_squared_error: 0.6103\n",
      "Epoch 3/30\n",
      "413/413 [==============================] - 2s 5ms/step - loss: 0.3731 - root_mean_squared_error: 0.6108 - val_loss: 0.3446 - val_root_mean_squared_error: 0.5870\n",
      "Epoch 4/30\n",
      "413/413 [==============================] - 2s 5ms/step - loss: 0.3496 - root_mean_squared_error: 0.5912 - val_loss: 0.3775 - val_root_mean_squared_error: 0.6144\n",
      "Epoch 5/30\n",
      "413/413 [==============================] - 2s 5ms/step - loss: 0.3384 - root_mean_squared_error: 0.5817 - val_loss: 0.3301 - val_root_mean_squared_error: 0.5746\n",
      "Epoch 6/30\n",
      "413/413 [==============================] - 2s 5ms/step - loss: 0.3215 - root_mean_squared_error: 0.5670 - val_loss: 0.3432 - val_root_mean_squared_error: 0.5858\n",
      "Epoch 7/30\n",
      "413/413 [==============================] - 2s 5ms/step - loss: 0.3199 - root_mean_squared_error: 0.5656 - val_loss: 0.3239 - val_root_mean_squared_error: 0.5692\n",
      "Epoch 8/30\n",
      "413/413 [==============================] - 2s 6ms/step - loss: 0.3102 - root_mean_squared_error: 0.5570 - val_loss: 0.3164 - val_root_mean_squared_error: 0.5625\n",
      "Epoch 9/30\n",
      "413/413 [==============================] - 2s 5ms/step - loss: 0.3052 - root_mean_squared_error: 0.5525 - val_loss: 0.3066 - val_root_mean_squared_error: 0.5538\n",
      "Epoch 10/30\n",
      "413/413 [==============================] - 2s 5ms/step - loss: 0.2992 - root_mean_squared_error: 0.5470 - val_loss: 0.3188 - val_root_mean_squared_error: 0.5646\n",
      "Epoch 11/30\n",
      "413/413 [==============================] - 2s 5ms/step - loss: 0.2981 - root_mean_squared_error: 0.5460 - val_loss: 0.2883 - val_root_mean_squared_error: 0.5370\n",
      "Epoch 12/30\n",
      "413/413 [==============================] - 2s 5ms/step - loss: 0.2914 - root_mean_squared_error: 0.5398 - val_loss: 0.2988 - val_root_mean_squared_error: 0.5466\n",
      "Epoch 13/30\n",
      "413/413 [==============================] - 2s 5ms/step - loss: 0.2887 - root_mean_squared_error: 0.5373 - val_loss: 0.2895 - val_root_mean_squared_error: 0.5380\n",
      "Epoch 14/30\n",
      "413/413 [==============================] - 2s 5ms/step - loss: 0.2846 - root_mean_squared_error: 0.5335 - val_loss: 0.2787 - val_root_mean_squared_error: 0.5279\n",
      "Epoch 15/30\n",
      "413/413 [==============================] - 2s 5ms/step - loss: 0.2894 - root_mean_squared_error: 0.5380 - val_loss: 0.2819 - val_root_mean_squared_error: 0.5310\n",
      "Epoch 16/30\n",
      "413/413 [==============================] - 2s 5ms/step - loss: 0.2889 - root_mean_squared_error: 0.5375 - val_loss: 0.2782 - val_root_mean_squared_error: 0.5275\n",
      "Epoch 17/30\n",
      "413/413 [==============================] - 2s 5ms/step - loss: 0.2844 - root_mean_squared_error: 0.5333 - val_loss: 0.2844 - val_root_mean_squared_error: 0.5333\n",
      "Epoch 18/30\n",
      "413/413 [==============================] - 2s 5ms/step - loss: 0.2772 - root_mean_squared_error: 0.5265 - val_loss: 0.2842 - val_root_mean_squared_error: 0.5331\n",
      "Epoch 19/30\n",
      "413/413 [==============================] - 2s 5ms/step - loss: 0.2749 - root_mean_squared_error: 0.5243 - val_loss: 0.2818 - val_root_mean_squared_error: 0.5309\n",
      "Epoch 20/30\n",
      "413/413 [==============================] - 2s 5ms/step - loss: 0.2772 - root_mean_squared_error: 0.5265 - val_loss: 0.2789 - val_root_mean_squared_error: 0.5281\n",
      "Epoch 21/30\n",
      "413/413 [==============================] - 2s 5ms/step - loss: 0.2724 - root_mean_squared_error: 0.5219 - val_loss: 0.3031 - val_root_mean_squared_error: 0.5505\n",
      "Epoch 22/30\n",
      "413/413 [==============================] - 2s 5ms/step - loss: 0.2697 - root_mean_squared_error: 0.5193 - val_loss: 0.2921 - val_root_mean_squared_error: 0.5404\n",
      "Epoch 23/30\n",
      "413/413 [==============================] - 2s 5ms/step - loss: 0.2707 - root_mean_squared_error: 0.5203 - val_loss: 0.2719 - val_root_mean_squared_error: 0.5215\n",
      "Epoch 24/30\n",
      "413/413 [==============================] - 2s 5ms/step - loss: 0.2702 - root_mean_squared_error: 0.5198 - val_loss: 0.2737 - val_root_mean_squared_error: 0.5232\n",
      "Epoch 25/30\n",
      "413/413 [==============================] - 2s 5ms/step - loss: 0.2658 - root_mean_squared_error: 0.5156 - val_loss: 0.2766 - val_root_mean_squared_error: 0.5259\n",
      "Epoch 26/30\n",
      "413/413 [==============================] - 2s 5ms/step - loss: 0.2660 - root_mean_squared_error: 0.5158 - val_loss: 0.2708 - val_root_mean_squared_error: 0.5204\n",
      "Epoch 27/30\n",
      "413/413 [==============================] - 2s 5ms/step - loss: 0.2618 - root_mean_squared_error: 0.5116 - val_loss: 0.2731 - val_root_mean_squared_error: 0.5226\n",
      "Epoch 28/30\n",
      "413/413 [==============================] - 2s 5ms/step - loss: 0.2594 - root_mean_squared_error: 0.5093 - val_loss: 0.2896 - val_root_mean_squared_error: 0.5382\n",
      "Epoch 29/30\n",
      "413/413 [==============================] - 2s 5ms/step - loss: 0.2591 - root_mean_squared_error: 0.5090 - val_loss: 0.2653 - val_root_mean_squared_error: 0.5150\n",
      "Epoch 30/30\n",
      "413/413 [==============================] - 2s 5ms/step - loss: 0.2550 - root_mean_squared_error: 0.5049 - val_loss: 0.2683 - val_root_mean_squared_error: 0.5179\n"
     ]
    }
   ],
   "source": [
    "history = model.fit(X_train, y_train, epochs=30, validation_data=(X_valid, y_valid))"
   ]
  },
  {
   "cell_type": "code",
   "execution_count": 62,
   "id": "764e2f7c",
   "metadata": {},
   "outputs": [
    {
     "data": {
      "text/plain": [
       "<AxesSubplot: >"
      ]
     },
     "execution_count": 62,
     "metadata": {},
     "output_type": "execute_result"
    },
    {
     "data": {
      "image/png": "[encoded data removed]",
      "text/plain": [
       "<Figure size 640x480 with 1 Axes>"
      ]
     },
     "metadata": {},
     "output_type": "display_data"
    }
   ],
   "source": [
    "pd.DataFrame(history.history).plot(xlim=[0, 30], ylim=[0, 1], grid = True)"
   ]
  },
  {
   "cell_type": "code",
   "execution_count": 63,
   "id": "dd310f4d",
   "metadata": {},
   "outputs": [
    {
     "name": "stdout",
     "output_type": "stream",
     "text": [
      "129/129 [==============================] - 0s 3ms/step - loss: 0.2774 - root_mean_squared_error: 0.5267\n"
     ]
    }
   ],
   "source": [
    "y_pred = model.evaluate(X_test, y_test)"
   ]
  },
  {
   "cell_type": "code",
   "execution_count": 5,
   "id": "d9d98193",
   "metadata": {},
   "outputs": [],
   "source": [
    "# Complex Model Using Functional API\n",
    "\n",
    "from sklearn.datasets import fetch_california_housing\n",
    "from sklearn.model_selection import train_test_split\n",
    "\n",
    "housing = fetch_california_housing()\n",
    "X, y = housing.data, housing.target\n",
    "\n",
    "X_train_full, X_test, y_train_full, y_test = train_test_split(X, y, random_state=42, test_size=0.2)\n",
    "X_train, X_valid, y_train, y_valid = train_test_split(X_train_full, y_train_full, random_state=43, test_size=0.2)\n",
    "\n"
   ]
  },
  {
   "cell_type": "code",
   "execution_count": 11,
   "id": "5c67140a",
   "metadata": {},
   "outputs": [
    {
     "name": "stdout",
     "output_type": "stream",
     "text": [
      "Metal device set to: Apple M2\n"
     ]
    },
    {
     "name": "stderr",
     "output_type": "stream",
     "text": [
      "2023-03-04 00:15:42.271939: I tensorflow/core/common_runtime/pluggable_device/pluggable_device_factory.cc:306] Could not identify NUMA node of platform GPU ID 0, defaulting to 0. Your kernel may not have been built with NUMA support.\n",
      "2023-03-04 00:15:42.272412: I tensorflow/core/common_runtime/pluggable_device/pluggable_device_factory.cc:272] Created TensorFlow device (/job:localhost/replica:0/task:0/device:GPU:0 with 0 MB memory) -> physical PluggableDevice (device: 0, name: METAL, pci bus id: <undefined>)\n",
      "2023-03-04 00:15:42.436634: W tensorflow/tsl/platform/profile_utils/cpu_utils.cc:128] Failed to get CPU frequency: 0 Hz\n",
      "2023-03-04 00:15:42.486756: I tensorflow/core/grappler/optimizers/custom_graph_optimizer_registry.cc:114] Plugin optimizer for device_type GPU is enabled.\n"
     ]
    }
   ],
   "source": [
    "normalization_layer = tf.keras.layers.Normalization()\n",
    "\n",
    "hidden_layer1 = tf.keras.layers.Dense(30, activation=\"relu\")\n",
    "hidden_layer2 = tf.keras.layers.Dense(30, activation=\"relu\")\n",
    "concat_layer = tf.keras.layers.Concatenate()\n",
    "\n",
    "input_ = tf.keras.layers.Input(shape=X_train.shape[1: ])\n",
    "output_layer = tf.keras.layers.Dense(1)\n",
    "\n",
    "normalized = normalization_layer(input_)\n",
    "hidden1 = hidden_layer1(normalized)\n",
    "hidden2 = hidden_layer2(hidden1)\n",
    "concat = concat_layer([normalized, hidden2])\n",
    "output = output_layer(concat)\n",
    "\n",
    "\n",
    "model = tf.keras.Model(inputs = [input_], outputs = [output])\n",
    "\n",
    "from tensorflow.keras.optimizers.legacy import Adam\n",
    "\n",
    "model.compile(loss = \"mse\",\n",
    "             optimizer = Adam(),\n",
    "             metrics = [\"RootMeanSquaredError\"])\n",
    "normalization_layer.adapt(X_train)\n",
    "\n",
    "\n"
   ]
  },
  {
   "cell_type": "code",
   "execution_count": 12,
   "id": "47e01f60",
   "metadata": {
    "scrolled": true
   },
   "outputs": [
    {
     "name": "stdout",
     "output_type": "stream",
     "text": [
      "Epoch 1/40\n",
      " 12/413 [..............................] - ETA: 1s - loss: 6.6620 - root_mean_squared_error: 2.5811  "
     ]
    },
    {
     "name": "stderr",
     "output_type": "stream",
     "text": [
      "2023-03-04 00:15:45.991073: I tensorflow/core/grappler/optimizers/custom_graph_optimizer_registry.cc:114] Plugin optimizer for device_type GPU is enabled.\n"
     ]
    },
    {
     "name": "stdout",
     "output_type": "stream",
     "text": [
      "412/413 [============================>.] - ETA: 0s - loss: 1.2607 - root_mean_squared_error: 1.1228"
     ]
    },
    {
     "name": "stderr",
     "output_type": "stream",
     "text": [
      "2023-03-04 00:15:47.965311: I tensorflow/core/grappler/optimizers/custom_graph_optimizer_registry.cc:114] Plugin optimizer for device_type GPU is enabled.\n"
     ]
    },
    {
     "name": "stdout",
     "output_type": "stream",
     "text": [
      "413/413 [==============================] - 2s 5ms/step - loss: 1.2589 - root_mean_squared_error: 1.1220 - val_loss: 0.5280 - val_root_mean_squared_error: 0.7266\n",
      "Epoch 2/40\n",
      "413/413 [==============================] - 2s 5ms/step - loss: 0.4913 - root_mean_squared_error: 0.7009 - val_loss: 0.4282 - val_root_mean_squared_error: 0.6543\n",
      "Epoch 3/40\n",
      "413/413 [==============================] - 2s 5ms/step - loss: 0.4256 - root_mean_squared_error: 0.6524 - val_loss: 0.3913 - val_root_mean_squared_error: 0.6255\n",
      "Epoch 4/40\n",
      "413/413 [==============================] - 2s 5ms/step - loss: 0.3948 - root_mean_squared_error: 0.6284 - val_loss: 0.3731 - val_root_mean_squared_error: 0.6108\n",
      "Epoch 5/40\n",
      "413/413 [==============================] - 2s 5ms/step - loss: 0.4050 - root_mean_squared_error: 0.6364 - val_loss: 0.3615 - val_root_mean_squared_error: 0.6012\n",
      "Epoch 6/40\n",
      "413/413 [==============================] - 2s 5ms/step - loss: 0.3688 - root_mean_squared_error: 0.6073 - val_loss: 0.3509 - val_root_mean_squared_error: 0.5924\n",
      "Epoch 7/40\n",
      "413/413 [==============================] - 2s 5ms/step - loss: 0.3584 - root_mean_squared_error: 0.5987 - val_loss: 0.3498 - val_root_mean_squared_error: 0.5915\n",
      "Epoch 8/40\n",
      "413/413 [==============================] - 2s 5ms/step - loss: 0.3614 - root_mean_squared_error: 0.6011 - val_loss: 0.3389 - val_root_mean_squared_error: 0.5822\n",
      "Epoch 9/40\n",
      "413/413 [==============================] - 2s 5ms/step - loss: 0.3457 - root_mean_squared_error: 0.5880 - val_loss: 0.3281 - val_root_mean_squared_error: 0.5728\n",
      "Epoch 10/40\n",
      "413/413 [==============================] - 2s 5ms/step - loss: 0.3376 - root_mean_squared_error: 0.5811 - val_loss: 0.3286 - val_root_mean_squared_error: 0.5732\n",
      "Epoch 11/40\n",
      "413/413 [==============================] - 2s 5ms/step - loss: 0.3477 - root_mean_squared_error: 0.5897 - val_loss: 0.3226 - val_root_mean_squared_error: 0.5680\n",
      "Epoch 12/40\n",
      "413/413 [==============================] - 2s 5ms/step - loss: 0.3305 - root_mean_squared_error: 0.5749 - val_loss: 0.3186 - val_root_mean_squared_error: 0.5644\n",
      "Epoch 13/40\n",
      "413/413 [==============================] - 2s 5ms/step - loss: 0.3224 - root_mean_squared_error: 0.5678 - val_loss: 0.3085 - val_root_mean_squared_error: 0.5554\n",
      "Epoch 14/40\n",
      "413/413 [==============================] - 2s 5ms/step - loss: 0.3192 - root_mean_squared_error: 0.5650 - val_loss: 0.3286 - val_root_mean_squared_error: 0.5732\n",
      "Epoch 15/40\n",
      "413/413 [==============================] - 2s 5ms/step - loss: 0.3216 - root_mean_squared_error: 0.5671 - val_loss: 0.3061 - val_root_mean_squared_error: 0.5533\n",
      "Epoch 16/40\n",
      "413/413 [==============================] - 2s 5ms/step - loss: 0.3301 - root_mean_squared_error: 0.5745 - val_loss: 0.2994 - val_root_mean_squared_error: 0.5472\n",
      "Epoch 17/40\n",
      "413/413 [==============================] - 2s 5ms/step - loss: 0.3145 - root_mean_squared_error: 0.5608 - val_loss: 0.3063 - val_root_mean_squared_error: 0.5535\n",
      "Epoch 18/40\n",
      "413/413 [==============================] - 2s 5ms/step - loss: 0.3060 - root_mean_squared_error: 0.5532 - val_loss: 0.2943 - val_root_mean_squared_error: 0.5425\n",
      "Epoch 19/40\n",
      "413/413 [==============================] - 2s 5ms/step - loss: 0.3250 - root_mean_squared_error: 0.5701 - val_loss: 0.2967 - val_root_mean_squared_error: 0.5447\n",
      "Epoch 20/40\n",
      "413/413 [==============================] - 2s 5ms/step - loss: 0.3070 - root_mean_squared_error: 0.5541 - val_loss: 0.3008 - val_root_mean_squared_error: 0.5484\n",
      "Epoch 21/40\n",
      "413/413 [==============================] - 2s 5ms/step - loss: 0.2956 - root_mean_squared_error: 0.5437 - val_loss: 0.2901 - val_root_mean_squared_error: 0.5386\n",
      "Epoch 22/40\n",
      "413/413 [==============================] - 2s 5ms/step - loss: 0.2956 - root_mean_squared_error: 0.5437 - val_loss: 0.2967 - val_root_mean_squared_error: 0.5447\n",
      "Epoch 23/40\n",
      "413/413 [==============================] - 2s 5ms/step - loss: 0.2938 - root_mean_squared_error: 0.5420 - val_loss: 0.2903 - val_root_mean_squared_error: 0.5388\n",
      "Epoch 24/40\n",
      "413/413 [==============================] - 2s 5ms/step - loss: 0.2942 - root_mean_squared_error: 0.5424 - val_loss: 0.2861 - val_root_mean_squared_error: 0.5349\n",
      "Epoch 25/40\n",
      "413/413 [==============================] - 2s 5ms/step - loss: 0.2933 - root_mean_squared_error: 0.5416 - val_loss: 0.2913 - val_root_mean_squared_error: 0.5397\n",
      "Epoch 26/40\n",
      "413/413 [==============================] - 2s 5ms/step - loss: 0.2943 - root_mean_squared_error: 0.5425 - val_loss: 0.2922 - val_root_mean_squared_error: 0.5406\n",
      "Epoch 27/40\n",
      "413/413 [==============================] - 2s 5ms/step - loss: 0.2860 - root_mean_squared_error: 0.5348 - val_loss: 0.2848 - val_root_mean_squared_error: 0.5337\n",
      "Epoch 28/40\n",
      "413/413 [==============================] - 2s 5ms/step - loss: 0.2908 - root_mean_squared_error: 0.5392 - val_loss: 0.2803 - val_root_mean_squared_error: 0.5295\n",
      "Epoch 29/40\n",
      "413/413 [==============================] - 2s 5ms/step - loss: 0.2892 - root_mean_squared_error: 0.5378 - val_loss: 0.2770 - val_root_mean_squared_error: 0.5263\n",
      "Epoch 30/40\n",
      "413/413 [==============================] - 2s 5ms/step - loss: 0.2839 - root_mean_squared_error: 0.5328 - val_loss: 0.2821 - val_root_mean_squared_error: 0.5311\n",
      "Epoch 31/40\n",
      "413/413 [==============================] - 2s 5ms/step - loss: 0.2941 - root_mean_squared_error: 0.5423 - val_loss: 0.2794 - val_root_mean_squared_error: 0.5286\n",
      "Epoch 32/40\n",
      "413/413 [==============================] - 2s 5ms/step - loss: 0.2837 - root_mean_squared_error: 0.5326 - val_loss: 0.2844 - val_root_mean_squared_error: 0.5333\n",
      "Epoch 33/40\n",
      "413/413 [==============================] - 2s 5ms/step - loss: 0.2807 - root_mean_squared_error: 0.5299 - val_loss: 0.2844 - val_root_mean_squared_error: 0.5333\n",
      "Epoch 34/40\n",
      "413/413 [==============================] - 2s 5ms/step - loss: 0.2814 - root_mean_squared_error: 0.5305 - val_loss: 0.2778 - val_root_mean_squared_error: 0.5271\n",
      "Epoch 35/40\n",
      "413/413 [==============================] - 2s 5ms/step - loss: 0.2815 - root_mean_squared_error: 0.5306 - val_loss: 0.2749 - val_root_mean_squared_error: 0.5243\n",
      "Epoch 36/40\n",
      "413/413 [==============================] - 2s 6ms/step - loss: 0.2782 - root_mean_squared_error: 0.5275 - val_loss: 0.2747 - val_root_mean_squared_error: 0.5242\n",
      "Epoch 37/40\n",
      "413/413 [==============================] - 2s 5ms/step - loss: 0.2761 - root_mean_squared_error: 0.5255 - val_loss: 0.2732 - val_root_mean_squared_error: 0.5227\n",
      "Epoch 38/40\n",
      "413/413 [==============================] - 2s 5ms/step - loss: 0.2728 - root_mean_squared_error: 0.5223 - val_loss: 0.2862 - val_root_mean_squared_error: 0.5350\n",
      "Epoch 39/40\n",
      "413/413 [==============================] - 2s 5ms/step - loss: 0.2851 - root_mean_squared_error: 0.5340 - val_loss: 0.2775 - val_root_mean_squared_error: 0.5267\n",
      "Epoch 40/40\n",
      "413/413 [==============================] - 2s 5ms/step - loss: 0.2748 - root_mean_squared_error: 0.5242 - val_loss: 0.2751 - val_root_mean_squared_error: 0.5245\n"
     ]
    },
    {
     "data": {
      "text/plain": [
       "<keras.callbacks.History at 0x294f075b0>"
      ]
     },
     "execution_count": 12,
     "metadata": {},
     "output_type": "execute_result"
    }
   ],
   "source": [
    "model.fit(X_train, y_train, epochs=40, validation_data=(X_valid, y_valid))"
   ]
  },
  {
   "cell_type": "code",
   "execution_count": 18,
   "id": "1dc6ce18",
   "metadata": {
    "scrolled": false
   },
   "outputs": [],
   "source": [
    "# What if we want some features to use wide path and others to use other path\n",
    "\n",
    "\n",
    "input_wide = tf.keras.Input(shape=[5])\n",
    "input_deep = tf.keras.Input(shape=[6])\n",
    "\n",
    "deep_normalization_layer = tf.keras.layers.Normalization()\n",
    "wide_normalization_layer = tf.keras.layers.Normalization()\n",
    "\n",
    "hidden_layer1 = tf.keras.layers.Dense(30, activation=\"relu\")\n",
    "hidden_layer2 = tf.keras.layers.Dense(30, activation=\"relu\")\n",
    "\n",
    "\n",
    "deep_normalization = deep_normalization_layer(input_deep)\n",
    "wide_normalization = wide_normalization_layer(input_wide)\n",
    "\n",
    "hidden1 = hidden_layer1(deep_normalization)\n",
    "hidden2 = hidden_layer2(hidden1)\n",
    "\n",
    "concat = tf.keras.layers.concatenate([hidden2, wide_normalization])\n",
    "output_layer = tf.keras.layers.Dense(1)\n",
    "\n",
    "output = output_layer(concat)\n",
    "\n",
    "model = tf.keras.Model(inputs = [input_deep, input_wide], outputs = [output])\n",
    "\n",
    "\n",
    "\n"
   ]
  },
  {
   "cell_type": "code",
   "execution_count": 6,
   "id": "881895e1",
   "metadata": {},
   "outputs": [],
   "source": [
    "# from tensorflow.keras.optimizers.legacy import Adam\n",
    "\n",
    "\n",
    "# model.compile(loss = \"mse\",\n",
    "#              optimizer = Adam(),\n",
    "#              metrics = [\"RootMeanSquaredError\"])\n",
    "\n",
    "X_train_wide, X_train_deep = X_train[ : ,  :5], X_train[ : , 2: ]\n",
    "X_valid_wide, X_valid_deep = X_valid[ : ,  :5], X_valid[ : , 2: ]\n",
    "X_test_wide, X_test_deep = X_test[ : ,  :5], X_test[ : , 2: ]\n",
    "\n",
    "# deep_normalization_layer.adapt(X_train_deep)\n",
    "# wide_normalization_layer.adapt(X_train_wide)"
   ]
  },
  {
   "cell_type": "code",
   "execution_count": 21,
   "id": "e8da4513",
   "metadata": {
    "scrolled": true
   },
   "outputs": [
    {
     "name": "stdout",
     "output_type": "stream",
     "text": [
      "Epoch 1/40\n",
      "  1/413 [..............................] - ETA: 2:15 - loss: 7.5041 - root_mean_squared_error: 2.7394"
     ]
    },
    {
     "name": "stderr",
     "output_type": "stream",
     "text": [
      "2023-03-04 01:15:24.990860: I tensorflow/core/grappler/optimizers/custom_graph_optimizer_registry.cc:114] Plugin optimizer for device_type GPU is enabled.\n"
     ]
    },
    {
     "name": "stdout",
     "output_type": "stream",
     "text": [
      "413/413 [==============================] - ETA: 0s - loss: 1.9069 - root_mean_squared_error: 1.3809"
     ]
    },
    {
     "name": "stderr",
     "output_type": "stream",
     "text": [
      "2023-03-04 01:15:27.105418: I tensorflow/core/grappler/optimizers/custom_graph_optimizer_registry.cc:114] Plugin optimizer for device_type GPU is enabled.\n"
     ]
    },
    {
     "name": "stdout",
     "output_type": "stream",
     "text": [
      "413/413 [==============================] - 3s 5ms/step - loss: 1.9069 - root_mean_squared_error: 1.3809 - val_loss: 0.7179 - val_root_mean_squared_error: 0.8473\n",
      "Epoch 2/40\n",
      "413/413 [==============================] - 2s 5ms/step - loss: 0.5897 - root_mean_squared_error: 0.7679 - val_loss: 0.5174 - val_root_mean_squared_error: 0.7193\n",
      "Epoch 3/40\n",
      "413/413 [==============================] - 2s 5ms/step - loss: 0.4868 - root_mean_squared_error: 0.6977 - val_loss: 0.4651 - val_root_mean_squared_error: 0.6820\n",
      "Epoch 4/40\n",
      "413/413 [==============================] - 2s 5ms/step - loss: 0.4353 - root_mean_squared_error: 0.6597 - val_loss: 0.4178 - val_root_mean_squared_error: 0.6464\n",
      "Epoch 5/40\n",
      "413/413 [==============================] - 2s 5ms/step - loss: 0.4018 - root_mean_squared_error: 0.6339 - val_loss: 0.3854 - val_root_mean_squared_error: 0.6208\n",
      "Epoch 6/40\n",
      "413/413 [==============================] - 2s 5ms/step - loss: 0.3776 - root_mean_squared_error: 0.6145 - val_loss: 0.3716 - val_root_mean_squared_error: 0.6096\n",
      "Epoch 7/40\n",
      "413/413 [==============================] - 2s 5ms/step - loss: 0.3666 - root_mean_squared_error: 0.6055 - val_loss: 0.3767 - val_root_mean_squared_error: 0.6137\n",
      "Epoch 8/40\n",
      "413/413 [==============================] - 2s 5ms/step - loss: 0.3537 - root_mean_squared_error: 0.5947 - val_loss: 0.3865 - val_root_mean_squared_error: 0.6217\n",
      "Epoch 9/40\n",
      "413/413 [==============================] - 2s 5ms/step - loss: 0.3518 - root_mean_squared_error: 0.5931 - val_loss: 0.3479 - val_root_mean_squared_error: 0.5898\n",
      "Epoch 10/40\n",
      "413/413 [==============================] - 2s 5ms/step - loss: 0.3511 - root_mean_squared_error: 0.5926 - val_loss: 0.3460 - val_root_mean_squared_error: 0.5882\n",
      "Epoch 11/40\n",
      "413/413 [==============================] - 2s 5ms/step - loss: 0.3382 - root_mean_squared_error: 0.5815 - val_loss: 0.3441 - val_root_mean_squared_error: 0.5866\n",
      "Epoch 12/40\n",
      "413/413 [==============================] - 2s 5ms/step - loss: 0.3355 - root_mean_squared_error: 0.5793 - val_loss: 0.3433 - val_root_mean_squared_error: 0.5859\n",
      "Epoch 13/40\n",
      "413/413 [==============================] - 2s 5ms/step - loss: 0.3357 - root_mean_squared_error: 0.5794 - val_loss: 0.3387 - val_root_mean_squared_error: 0.5820\n",
      "Epoch 14/40\n",
      "413/413 [==============================] - 2s 5ms/step - loss: 0.3385 - root_mean_squared_error: 0.5818 - val_loss: 0.3378 - val_root_mean_squared_error: 0.5812\n",
      "Epoch 15/40\n",
      "413/413 [==============================] - 2s 5ms/step - loss: 0.3300 - root_mean_squared_error: 0.5744 - val_loss: 0.3390 - val_root_mean_squared_error: 0.5823\n",
      "Epoch 16/40\n",
      "413/413 [==============================] - 2s 5ms/step - loss: 0.3257 - root_mean_squared_error: 0.5707 - val_loss: 0.3340 - val_root_mean_squared_error: 0.5779\n",
      "Epoch 17/40\n",
      "413/413 [==============================] - 2s 5ms/step - loss: 0.3285 - root_mean_squared_error: 0.5732 - val_loss: 0.3359 - val_root_mean_squared_error: 0.5795\n",
      "Epoch 18/40\n",
      "413/413 [==============================] - 2s 5ms/step - loss: 0.3277 - root_mean_squared_error: 0.5725 - val_loss: 0.3329 - val_root_mean_squared_error: 0.5770\n",
      "Epoch 19/40\n",
      "413/413 [==============================] - 2s 5ms/step - loss: 0.3282 - root_mean_squared_error: 0.5729 - val_loss: 0.3283 - val_root_mean_squared_error: 0.5730\n",
      "Epoch 20/40\n",
      "413/413 [==============================] - 2s 5ms/step - loss: 0.3327 - root_mean_squared_error: 0.5768 - val_loss: 0.3269 - val_root_mean_squared_error: 0.5717\n",
      "Epoch 21/40\n",
      "413/413 [==============================] - 2s 5ms/step - loss: 0.3207 - root_mean_squared_error: 0.5663 - val_loss: 0.3264 - val_root_mean_squared_error: 0.5713\n",
      "Epoch 22/40\n",
      "413/413 [==============================] - 2s 5ms/step - loss: 0.3202 - root_mean_squared_error: 0.5659 - val_loss: 0.3366 - val_root_mean_squared_error: 0.5801\n",
      "Epoch 23/40\n",
      "413/413 [==============================] - 2s 5ms/step - loss: 0.3181 - root_mean_squared_error: 0.5640 - val_loss: 0.3274 - val_root_mean_squared_error: 0.5722\n",
      "Epoch 24/40\n",
      "413/413 [==============================] - 2s 5ms/step - loss: 0.3204 - root_mean_squared_error: 0.5661 - val_loss: 0.3228 - val_root_mean_squared_error: 0.5682\n",
      "Epoch 25/40\n",
      "413/413 [==============================] - 2s 5ms/step - loss: 0.3172 - root_mean_squared_error: 0.5632 - val_loss: 0.3369 - val_root_mean_squared_error: 0.5804\n",
      "Epoch 26/40\n",
      "413/413 [==============================] - 2s 5ms/step - loss: 0.3147 - root_mean_squared_error: 0.5609 - val_loss: 0.3221 - val_root_mean_squared_error: 0.5675\n",
      "Epoch 27/40\n",
      "413/413 [==============================] - 2s 5ms/step - loss: 0.3198 - root_mean_squared_error: 0.5655 - val_loss: 0.3310 - val_root_mean_squared_error: 0.5753\n",
      "Epoch 28/40\n",
      "413/413 [==============================] - 2s 5ms/step - loss: 0.3212 - root_mean_squared_error: 0.5667 - val_loss: 0.3208 - val_root_mean_squared_error: 0.5664\n",
      "Epoch 29/40\n",
      "413/413 [==============================] - 2s 5ms/step - loss: 0.3135 - root_mean_squared_error: 0.5599 - val_loss: 0.3250 - val_root_mean_squared_error: 0.5701\n",
      "Epoch 30/40\n",
      "413/413 [==============================] - 2s 5ms/step - loss: 0.3183 - root_mean_squared_error: 0.5642 - val_loss: 0.3222 - val_root_mean_squared_error: 0.5676\n",
      "Epoch 31/40\n",
      "413/413 [==============================] - 2s 5ms/step - loss: 0.3111 - root_mean_squared_error: 0.5577 - val_loss: 0.3188 - val_root_mean_squared_error: 0.5646\n",
      "Epoch 32/40\n",
      "413/413 [==============================] - 2s 5ms/step - loss: 0.3128 - root_mean_squared_error: 0.5593 - val_loss: 0.3215 - val_root_mean_squared_error: 0.5670\n",
      "Epoch 33/40\n",
      "413/413 [==============================] - 2s 5ms/step - loss: 0.3111 - root_mean_squared_error: 0.5578 - val_loss: 0.3250 - val_root_mean_squared_error: 0.5701\n",
      "Epoch 34/40\n",
      "413/413 [==============================] - 2s 5ms/step - loss: 0.3146 - root_mean_squared_error: 0.5609 - val_loss: 0.3189 - val_root_mean_squared_error: 0.5647\n",
      "Epoch 35/40\n",
      "413/413 [==============================] - 2s 5ms/step - loss: 0.3098 - root_mean_squared_error: 0.5566 - val_loss: 0.3195 - val_root_mean_squared_error: 0.5652\n",
      "Epoch 36/40\n",
      "413/413 [==============================] - 2s 5ms/step - loss: 0.3079 - root_mean_squared_error: 0.5549 - val_loss: 0.3205 - val_root_mean_squared_error: 0.5662\n",
      "Epoch 37/40\n",
      "413/413 [==============================] - 2s 5ms/step - loss: 0.3078 - root_mean_squared_error: 0.5548 - val_loss: 0.3171 - val_root_mean_squared_error: 0.5631\n",
      "Epoch 38/40\n",
      "413/413 [==============================] - 2s 5ms/step - loss: 0.3125 - root_mean_squared_error: 0.5590 - val_loss: 0.3293 - val_root_mean_squared_error: 0.5739\n",
      "Epoch 39/40\n",
      "413/413 [==============================] - 2s 5ms/step - loss: 0.3092 - root_mean_squared_error: 0.5561 - val_loss: 0.3122 - val_root_mean_squared_error: 0.5587\n",
      "Epoch 40/40\n",
      "413/413 [==============================] - 2s 5ms/step - loss: 0.3028 - root_mean_squared_error: 0.5503 - val_loss: 0.3131 - val_root_mean_squared_error: 0.5595\n"
     ]
    }
   ],
   "source": [
    "model_history = model.fit((X_train_deep, X_train_wide), y_train, \n",
    "                          epochs=40, \n",
    "                          validation_data=((X_valid_deep, X_valid_wide), y_valid))\n",
    "\n",
    "\n",
    "\n"
   ]
  },
  {
   "cell_type": "code",
   "execution_count": 27,
   "id": "d39e7a0c",
   "metadata": {},
   "outputs": [
    {
     "data": {
      "text/plain": [
       "<AxesSubplot: >"
      ]
     },
     "execution_count": 27,
     "metadata": {},
     "output_type": "execute_result"
    },
    {
     "data": {
      "image/png": "[encoded data removed]",
      "text/plain": [
       "<Figure size 640x480 with 1 Axes>"
      ]
     },
     "metadata": {},
     "output_type": "display_data"
    }
   ],
   "source": [
    "pd.DataFrame(model_history.history).plot(xlim = [0, 40], ylim = [0, 1], grid = True, style = [\"r:\", \"g:\", \"r--\", \"g--\"])\n",
    "\n"
   ]
  },
  {
   "cell_type": "code",
   "execution_count": 27,
   "id": "8dbc38aa",
   "metadata": {},
   "outputs": [],
   "source": [
    "import tensorflow as tf\n",
    "class WideAndDeepModel(tf.keras.Model):\n",
    "    def __init__(self, units = 30, activation = \"relu\", **kwargs):\n",
    "        super().__init__(**kwargs)\n",
    "        self.norm_layer_wide = tf.keras.layers.Normalization()\n",
    "        self.norm_layer_deep = tf.keras.layers.Normalization()\n",
    "        \n",
    "        self.hidden1 = tf.keras.layers.Dense(units, activation = activation)\n",
    "        self.hidden2 = tf.keras.layers.Dense(units, activation = activation)\n",
    "        \n",
    "        self.main_output = tf.keras.layers.Dense(1)\n",
    "        self.aux_output = tf.keras.layers.Dense(1)\n",
    "        \n",
    "    def call(self, inputs):\n",
    "        input_wide, input_deep = inputs\n",
    "        norm_wide = self.norm_layer_wide(input_wide)\n",
    "        norm_deep = self.norm_layer_deep(input_deep)\n",
    "\n",
    "        hidden1 = self.hidden1(norm_deep)\n",
    "        hidden2 = self.hidden2(hidden1)\n",
    "\n",
    "        concat = tf.keras.layers.concatenate([norm_wide, hidden2])\n",
    "\n",
    "        output = self.main_output(concat)\n",
    "        aux_output = self.aux_output(hidden2)\n",
    "\n",
    "\n",
    "        return output, aux_output\n",
    "        \n",
    "        \n",
    "model = WideAndDeepModel(30, activation = \"relu\", name = \"my_model\")\n",
    "\n"
   ]
  },
  {
   "cell_type": "code",
   "execution_count": 28,
   "id": "7514c294",
   "metadata": {},
   "outputs": [
    {
     "name": "stderr",
     "output_type": "stream",
     "text": [
      "2023-03-04 23:55:21.997259: I tensorflow/core/grappler/optimizers/custom_graph_optimizer_registry.cc:114] Plugin optimizer for device_type GPU is enabled.\n",
      "2023-03-04 23:55:22.010926: I tensorflow/core/grappler/optimizers/custom_graph_optimizer_registry.cc:114] Plugin optimizer for device_type GPU is enabled.\n",
      "2023-03-04 23:55:22.666821: I tensorflow/core/grappler/optimizers/custom_graph_optimizer_registry.cc:114] Plugin optimizer for device_type GPU is enabled.\n",
      "2023-03-04 23:55:22.680605: I tensorflow/core/grappler/optimizers/custom_graph_optimizer_registry.cc:114] Plugin optimizer for device_type GPU is enabled.\n"
     ]
    }
   ],
   "source": [
    "\n",
    "\n",
    "from tensorflow.keras.optimizers.legacy import Adam\n",
    "model.compile(loss = \"mse\",\n",
    "              loss_weights=[0.9, 0.1],\n",
    "             optimizer = Adam(),\n",
    "              metrics = [\"RootMeanSquaredError\"],)\n",
    "\n",
    "model.norm_layer_deep.adapt(X_train_deep)\n",
    "model.norm_layer_wide.adapt(X_train_wide)\n"
   ]
  },
  {
   "cell_type": "code",
   "execution_count": 29,
   "id": "e69ae9c2",
   "metadata": {
    "scrolled": true
   },
   "outputs": [
    {
     "name": "stdout",
     "output_type": "stream",
     "text": [
      "Epoch 1/20\n",
      "  1/413 [..............................] - ETA: 4:06 - loss: 6.8854 - output_1_loss: 6.9664 - output_2_loss: 6.1573 - output_1_root_mean_squared_error: 2.6394 - output_2_root_mean_squared_error: 2.4814"
     ]
    },
    {
     "name": "stderr",
     "output_type": "stream",
     "text": [
      "2023-03-04 23:55:25.137903: I tensorflow/core/grappler/optimizers/custom_graph_optimizer_registry.cc:114] Plugin optimizer for device_type GPU is enabled.\n"
     ]
    },
    {
     "name": "stdout",
     "output_type": "stream",
     "text": [
      "413/413 [==============================] - ETA: 0s - loss: 1.8189 - output_1_loss: 1.7899 - output_2_loss: 2.0806 - output_1_root_mean_squared_error: 1.3379 - output_2_root_mean_squared_error: 1.4424"
     ]
    },
    {
     "name": "stderr",
     "output_type": "stream",
     "text": [
      "2023-03-04 23:55:28.292358: I tensorflow/core/grappler/optimizers/custom_graph_optimizer_registry.cc:114] Plugin optimizer for device_type GPU is enabled.\n"
     ]
    },
    {
     "name": "stdout",
     "output_type": "stream",
     "text": [
      "413/413 [==============================] - 4s 8ms/step - loss: 1.8189 - output_1_loss: 1.7899 - output_2_loss: 2.0806 - output_1_root_mean_squared_error: 1.3379 - output_2_root_mean_squared_error: 1.4424 - val_loss: 0.7068 - val_output_1_loss: 0.6901 - val_output_2_loss: 0.8568 - val_output_1_root_mean_squared_error: 0.8307 - val_output_2_root_mean_squared_error: 0.9257\n",
      "Epoch 2/20\n",
      "413/413 [==============================] - 3s 8ms/step - loss: 0.6209 - output_1_loss: 0.6049 - output_2_loss: 0.7649 - output_1_root_mean_squared_error: 0.7778 - output_2_root_mean_squared_error: 0.8746 - val_loss: 0.5275 - val_output_1_loss: 0.5143 - val_output_2_loss: 0.6462 - val_output_1_root_mean_squared_error: 0.7171 - val_output_2_root_mean_squared_error: 0.8039\n",
      "Epoch 3/20\n",
      "413/413 [==============================] - 3s 8ms/step - loss: 0.5052 - output_1_loss: 0.4920 - output_2_loss: 0.6239 - output_1_root_mean_squared_error: 0.7014 - output_2_root_mean_squared_error: 0.7899 - val_loss: 0.5057 - val_output_1_loss: 0.4961 - val_output_2_loss: 0.5923 - val_output_1_root_mean_squared_error: 0.7043 - val_output_2_root_mean_squared_error: 0.7696\n",
      "Epoch 4/20\n",
      "413/413 [==============================] - 3s 8ms/step - loss: 0.4502 - output_1_loss: 0.4382 - output_2_loss: 0.5583 - output_1_root_mean_squared_error: 0.6620 - output_2_root_mean_squared_error: 0.7472 - val_loss: 0.4156 - val_output_1_loss: 0.4033 - val_output_2_loss: 0.5269 - val_output_1_root_mean_squared_error: 0.6350 - val_output_2_root_mean_squared_error: 0.7259\n",
      "Epoch 5/20\n",
      "413/413 [==============================] - 3s 8ms/step - loss: 0.4090 - output_1_loss: 0.3974 - output_2_loss: 0.5131 - output_1_root_mean_squared_error: 0.6304 - output_2_root_mean_squared_error: 0.7163 - val_loss: 0.3893 - val_output_1_loss: 0.3776 - val_output_2_loss: 0.4950 - val_output_1_root_mean_squared_error: 0.6145 - val_output_2_root_mean_squared_error: 0.7036\n",
      "Epoch 6/20\n",
      "413/413 [==============================] - 3s 8ms/step - loss: 0.3895 - output_1_loss: 0.3793 - output_2_loss: 0.4816 - output_1_root_mean_squared_error: 0.6158 - output_2_root_mean_squared_error: 0.6940 - val_loss: 0.4352 - val_output_1_loss: 0.4278 - val_output_2_loss: 0.5020 - val_output_1_root_mean_squared_error: 0.6541 - val_output_2_root_mean_squared_error: 0.7085\n",
      "Epoch 7/20\n",
      "413/413 [==============================] - 3s 8ms/step - loss: 0.3786 - output_1_loss: 0.3687 - output_2_loss: 0.4678 - output_1_root_mean_squared_error: 0.6072 - output_2_root_mean_squared_error: 0.6840 - val_loss: 0.3659 - val_output_1_loss: 0.3556 - val_output_2_loss: 0.4589 - val_output_1_root_mean_squared_error: 0.5963 - val_output_2_root_mean_squared_error: 0.6775\n",
      "Epoch 8/20\n",
      "413/413 [==============================] - 3s 8ms/step - loss: 0.3656 - output_1_loss: 0.3566 - output_2_loss: 0.4473 - output_1_root_mean_squared_error: 0.5971 - output_2_root_mean_squared_error: 0.6688 - val_loss: 0.3706 - val_output_1_loss: 0.3617 - val_output_2_loss: 0.4500 - val_output_1_root_mean_squared_error: 0.6015 - val_output_2_root_mean_squared_error: 0.6708\n",
      "Epoch 9/20\n",
      "413/413 [==============================] - 3s 8ms/step - loss: 0.3628 - output_1_loss: 0.3542 - output_2_loss: 0.4397 - output_1_root_mean_squared_error: 0.5952 - output_2_root_mean_squared_error: 0.6631 - val_loss: 0.3618 - val_output_1_loss: 0.3530 - val_output_2_loss: 0.4409 - val_output_1_root_mean_squared_error: 0.5941 - val_output_2_root_mean_squared_error: 0.6640\n",
      "Epoch 10/20\n",
      "413/413 [==============================] - 3s 8ms/step - loss: 0.3568 - output_1_loss: 0.3485 - output_2_loss: 0.4317 - output_1_root_mean_squared_error: 0.5903 - output_2_root_mean_squared_error: 0.6571 - val_loss: 0.3538 - val_output_1_loss: 0.3459 - val_output_2_loss: 0.4256 - val_output_1_root_mean_squared_error: 0.5881 - val_output_2_root_mean_squared_error: 0.6524\n",
      "Epoch 11/20\n",
      "413/413 [==============================] - 3s 8ms/step - loss: 0.3504 - output_1_loss: 0.3424 - output_2_loss: 0.4230 - output_1_root_mean_squared_error: 0.5851 - output_2_root_mean_squared_error: 0.6504 - val_loss: 0.3522 - val_output_1_loss: 0.3444 - val_output_2_loss: 0.4227 - val_output_1_root_mean_squared_error: 0.5868 - val_output_2_root_mean_squared_error: 0.6502\n",
      "Epoch 12/20\n",
      "413/413 [==============================] - 3s 8ms/step - loss: 0.3536 - output_1_loss: 0.3461 - output_2_loss: 0.4214 - output_1_root_mean_squared_error: 0.5883 - output_2_root_mean_squared_error: 0.6491 - val_loss: 0.3606 - val_output_1_loss: 0.3519 - val_output_2_loss: 0.4392 - val_output_1_root_mean_squared_error: 0.5932 - val_output_2_root_mean_squared_error: 0.6627\n",
      "Epoch 13/20\n",
      "413/413 [==============================] - 3s 8ms/step - loss: 0.3634 - output_1_loss: 0.3548 - output_2_loss: 0.4406 - output_1_root_mean_squared_error: 0.5956 - output_2_root_mean_squared_error: 0.6638 - val_loss: 0.3549 - val_output_1_loss: 0.3476 - val_output_2_loss: 0.4201 - val_output_1_root_mean_squared_error: 0.5896 - val_output_2_root_mean_squared_error: 0.6481\n",
      "Epoch 14/20\n",
      "413/413 [==============================] - 3s 8ms/step - loss: 0.3428 - output_1_loss: 0.3356 - output_2_loss: 0.4078 - output_1_root_mean_squared_error: 0.5793 - output_2_root_mean_squared_error: 0.6386 - val_loss: 0.3445 - val_output_1_loss: 0.3369 - val_output_2_loss: 0.4122 - val_output_1_root_mean_squared_error: 0.5805 - val_output_2_root_mean_squared_error: 0.6420\n",
      "Epoch 15/20\n",
      "413/413 [==============================] - 3s 8ms/step - loss: 0.3396 - output_1_loss: 0.3323 - output_2_loss: 0.4051 - output_1_root_mean_squared_error: 0.5765 - output_2_root_mean_squared_error: 0.6365 - val_loss: 0.3450 - val_output_1_loss: 0.3375 - val_output_2_loss: 0.4128 - val_output_1_root_mean_squared_error: 0.5809 - val_output_2_root_mean_squared_error: 0.6425\n",
      "Epoch 16/20\n",
      "413/413 [==============================] - 4s 9ms/step - loss: 0.3369 - output_1_loss: 0.3297 - output_2_loss: 0.4009 - output_1_root_mean_squared_error: 0.5742 - output_2_root_mean_squared_error: 0.6332 - val_loss: 0.3459 - val_output_1_loss: 0.3385 - val_output_2_loss: 0.4125 - val_output_1_root_mean_squared_error: 0.5818 - val_output_2_root_mean_squared_error: 0.6422\n",
      "Epoch 17/20\n",
      "413/413 [==============================] - 3s 8ms/step - loss: 0.3362 - output_1_loss: 0.3289 - output_2_loss: 0.4020 - output_1_root_mean_squared_error: 0.5735 - output_2_root_mean_squared_error: 0.6340 - val_loss: 0.3404 - val_output_1_loss: 0.3336 - val_output_2_loss: 0.4009 - val_output_1_root_mean_squared_error: 0.5776 - val_output_2_root_mean_squared_error: 0.6331\n",
      "Epoch 18/20\n",
      "413/413 [==============================] - 3s 8ms/step - loss: 0.3350 - output_1_loss: 0.3281 - output_2_loss: 0.3977 - output_1_root_mean_squared_error: 0.5728 - output_2_root_mean_squared_error: 0.6307 - val_loss: 0.3360 - val_output_1_loss: 0.3290 - val_output_2_loss: 0.3993 - val_output_1_root_mean_squared_error: 0.5736 - val_output_2_root_mean_squared_error: 0.6319\n",
      "Epoch 19/20\n",
      "413/413 [==============================] - 3s 8ms/step - loss: 0.3416 - output_1_loss: 0.3349 - output_2_loss: 0.4019 - output_1_root_mean_squared_error: 0.5787 - output_2_root_mean_squared_error: 0.6340 - val_loss: 0.3372 - val_output_1_loss: 0.3306 - val_output_2_loss: 0.3965 - val_output_1_root_mean_squared_error: 0.5750 - val_output_2_root_mean_squared_error: 0.6297\n",
      "Epoch 20/20\n",
      "413/413 [==============================] - 3s 8ms/step - loss: 0.3319 - output_1_loss: 0.3253 - output_2_loss: 0.3914 - output_1_root_mean_squared_error: 0.5704 - output_2_root_mean_squared_error: 0.6256 - val_loss: 0.3388 - val_output_1_loss: 0.3318 - val_output_2_loss: 0.4013 - val_output_1_root_mean_squared_error: 0.5761 - val_output_2_root_mean_squared_error: 0.6335\n"
     ]
    }
   ],
   "source": [
    "model_history = model.fit((X_train_wide, X_train_deep), (y_train, y_train), \n",
    "                          epochs=20, \n",
    "                          validation_data=((X_valid_wide, X_valid_deep), (y_valid, y_valid)))\n",
    "\n",
    "\n",
    "\n"
   ]
  },
  {
   "cell_type": "code",
   "execution_count": 30,
   "id": "80cefe1f",
   "metadata": {},
   "outputs": [
    {
     "name": "stdout",
     "output_type": "stream",
     "text": [
      "INFO:tensorflow:Assets written to: my_model/assets\n"
     ]
    }
   ],
   "source": [
    "model.save(\"my_model\", save_format = \"tf\")"
   ]
  },
  {
   "cell_type": "code",
   "execution_count": 2,
   "id": "31e122e4",
   "metadata": {},
   "outputs": [
    {
     "name": "stderr",
     "output_type": "stream",
     "text": [
      "2023-03-06 15:50:37.175542: I tensorflow/core/common_runtime/pluggable_device/pluggable_device_factory.cc:306] Could not identify NUMA node of platform GPU ID 0, defaulting to 0. Your kernel may not have been built with NUMA support.\n",
      "2023-03-06 15:50:37.175899: I tensorflow/core/common_runtime/pluggable_device/pluggable_device_factory.cc:272] Created TensorFlow device (/job:localhost/replica:0/task:0/device:GPU:0 with 0 MB memory) -> physical PluggableDevice (device: 0, name: METAL, pci bus id: <undefined>)\n"
     ]
    },
    {
     "name": "stdout",
     "output_type": "stream",
     "text": [
      "Metal device set to: Apple M2\n"
     ]
    }
   ],
   "source": [
    "loaded_model = tf.keras.models.load_model(\"my_model\")\n"
   ]
  },
  {
   "cell_type": "code",
   "execution_count": 11,
   "id": "5ecd6d86",
   "metadata": {},
   "outputs": [
    {
     "ename": "TypeError",
     "evalue": "Unable to convert function return value to a Python type! The signature was\n\t() -> handle",
     "output_type": "error",
     "traceback": [
      "\u001b[0;31m---------------------------------------------------------------------------\u001b[0m",
      "\u001b[0;31mTypeError\u001b[0m                                 Traceback (most recent call last)",
      "Cell \u001b[0;32mIn[11], line 2\u001b[0m\n\u001b[1;32m      1\u001b[0m \u001b[38;5;66;03m# Callbacks\u001b[39;00m\n\u001b[0;32m----> 2\u001b[0m \u001b[38;5;28;01mimport\u001b[39;00m \u001b[38;5;21;01mtensorflow\u001b[39;00m \u001b[38;5;28;01mas\u001b[39;00m \u001b[38;5;21;01mtf\u001b[39;00m\n\u001b[1;32m      5\u001b[0m checkpoint_cb \u001b[38;5;241m=\u001b[39m tf\u001b[38;5;241m.\u001b[39mkeras\u001b[38;5;241m.\u001b[39mcallbacks\u001b[38;5;241m.\u001b[39mModelCheckpoint(\u001b[38;5;124m\"\u001b[39m\u001b[38;5;124mmy_checkpoints\u001b[39m\u001b[38;5;124m\"\u001b[39m, save_weights_only \u001b[38;5;241m=\u001b[39m \u001b[38;5;28;01mTrue\u001b[39;00m)\n",
      "File \u001b[0;32m~/miniconda3/envs/tensorflow/lib/python3.10/site-packages/tensorflow/__init__.py:37\u001b[0m\n\u001b[1;32m     34\u001b[0m \u001b[38;5;28;01mimport\u001b[39;00m \u001b[38;5;21;01msys\u001b[39;00m \u001b[38;5;28;01mas\u001b[39;00m \u001b[38;5;21;01m_sys\u001b[39;00m\n\u001b[1;32m     35\u001b[0m \u001b[38;5;28;01mimport\u001b[39;00m \u001b[38;5;21;01mtyping\u001b[39;00m \u001b[38;5;28;01mas\u001b[39;00m \u001b[38;5;21;01m_typing\u001b[39;00m\n\u001b[0;32m---> 37\u001b[0m \u001b[38;5;28;01mfrom\u001b[39;00m \u001b[38;5;21;01mtensorflow\u001b[39;00m\u001b[38;5;21;01m.\u001b[39;00m\u001b[38;5;21;01mpython\u001b[39;00m\u001b[38;5;21;01m.\u001b[39;00m\u001b[38;5;21;01mtools\u001b[39;00m \u001b[38;5;28;01mimport\u001b[39;00m module_util \u001b[38;5;28;01mas\u001b[39;00m _module_util\n\u001b[1;32m     38\u001b[0m \u001b[38;5;28;01mfrom\u001b[39;00m \u001b[38;5;21;01mtensorflow\u001b[39;00m\u001b[38;5;21;01m.\u001b[39;00m\u001b[38;5;21;01mpython\u001b[39;00m\u001b[38;5;21;01m.\u001b[39;00m\u001b[38;5;21;01mutil\u001b[39;00m\u001b[38;5;21;01m.\u001b[39;00m\u001b[38;5;21;01mlazy_loader\u001b[39;00m \u001b[38;5;28;01mimport\u001b[39;00m LazyLoader \u001b[38;5;28;01mas\u001b[39;00m _LazyLoader\n\u001b[1;32m     40\u001b[0m \u001b[38;5;66;03m# Make sure code inside the TensorFlow codebase can use tf2.enabled() at import.\u001b[39;00m\n",
      "File \u001b[0;32m~/miniconda3/envs/tensorflow/lib/python3.10/site-packages/tensorflow/python/__init__.py:42\u001b[0m\n\u001b[1;32m     37\u001b[0m \u001b[38;5;28;01mfrom\u001b[39;00m \u001b[38;5;21;01mtensorflow\u001b[39;00m\u001b[38;5;21;01m.\u001b[39;00m\u001b[38;5;21;01mpython\u001b[39;00m\u001b[38;5;21;01m.\u001b[39;00m\u001b[38;5;21;01meager\u001b[39;00m \u001b[38;5;28;01mimport\u001b[39;00m context\n\u001b[1;32m     39\u001b[0m \u001b[38;5;66;03m# pylint: enable=wildcard-import\u001b[39;00m\n\u001b[1;32m     40\u001b[0m \n\u001b[1;32m     41\u001b[0m \u001b[38;5;66;03m# Bring in subpackages.\u001b[39;00m\n\u001b[0;32m---> 42\u001b[0m \u001b[38;5;28;01mfrom\u001b[39;00m \u001b[38;5;21;01mtensorflow\u001b[39;00m\u001b[38;5;21;01m.\u001b[39;00m\u001b[38;5;21;01mpython\u001b[39;00m \u001b[38;5;28;01mimport\u001b[39;00m data\n\u001b[1;32m     43\u001b[0m \u001b[38;5;28;01mfrom\u001b[39;00m \u001b[38;5;21;01mtensorflow\u001b[39;00m\u001b[38;5;21;01m.\u001b[39;00m\u001b[38;5;21;01mpython\u001b[39;00m \u001b[38;5;28;01mimport\u001b[39;00m distribute\n\u001b[1;32m     44\u001b[0m \u001b[38;5;66;03m# from tensorflow.python import keras\u001b[39;00m\n",
      "File \u001b[0;32m~/miniconda3/envs/tensorflow/lib/python3.10/site-packages/tensorflow/python/data/__init__.py:21\u001b[0m\n\u001b[1;32m     15\u001b[0m \u001b[38;5;124;03m\"\"\"`tf.data.Dataset` API for input pipelines.\u001b[39;00m\n\u001b[1;32m     16\u001b[0m \n\u001b[1;32m     17\u001b[0m \u001b[38;5;124;03mSee [Importing Data](https://tensorflow.org/guide/data) for an overview.\u001b[39;00m\n\u001b[1;32m     18\u001b[0m \u001b[38;5;124;03m\"\"\"\u001b[39;00m\n\u001b[1;32m     20\u001b[0m \u001b[38;5;66;03m# pylint: disable=unused-import\u001b[39;00m\n\u001b[0;32m---> 21\u001b[0m \u001b[38;5;28;01mfrom\u001b[39;00m \u001b[38;5;21;01mtensorflow\u001b[39;00m\u001b[38;5;21;01m.\u001b[39;00m\u001b[38;5;21;01mpython\u001b[39;00m\u001b[38;5;21;01m.\u001b[39;00m\u001b[38;5;21;01mdata\u001b[39;00m \u001b[38;5;28;01mimport\u001b[39;00m experimental\n\u001b[1;32m     22\u001b[0m \u001b[38;5;28;01mfrom\u001b[39;00m \u001b[38;5;21;01mtensorflow\u001b[39;00m\u001b[38;5;21;01m.\u001b[39;00m\u001b[38;5;21;01mpython\u001b[39;00m\u001b[38;5;21;01m.\u001b[39;00m\u001b[38;5;21;01mdata\u001b[39;00m\u001b[38;5;21;01m.\u001b[39;00m\u001b[38;5;21;01mops\u001b[39;00m\u001b[38;5;21;01m.\u001b[39;00m\u001b[38;5;21;01mdataset_ops\u001b[39;00m \u001b[38;5;28;01mimport\u001b[39;00m AUTOTUNE\n\u001b[1;32m     23\u001b[0m \u001b[38;5;28;01mfrom\u001b[39;00m \u001b[38;5;21;01mtensorflow\u001b[39;00m\u001b[38;5;21;01m.\u001b[39;00m\u001b[38;5;21;01mpython\u001b[39;00m\u001b[38;5;21;01m.\u001b[39;00m\u001b[38;5;21;01mdata\u001b[39;00m\u001b[38;5;21;01m.\u001b[39;00m\u001b[38;5;21;01mops\u001b[39;00m\u001b[38;5;21;01m.\u001b[39;00m\u001b[38;5;21;01mdataset_ops\u001b[39;00m \u001b[38;5;28;01mimport\u001b[39;00m Dataset\n",
      "File \u001b[0;32m~/miniconda3/envs/tensorflow/lib/python3.10/site-packages/tensorflow/python/data/experimental/__init__.py:96\u001b[0m\n\u001b[1;32m     15\u001b[0m \u001b[38;5;124;03m\"\"\"Experimental API for building input pipelines.\u001b[39;00m\n\u001b[1;32m     16\u001b[0m \n\u001b[1;32m     17\u001b[0m \u001b[38;5;124;03mThis module contains experimental `Dataset` sources and transformations that can\u001b[39;00m\n\u001b[0;32m   (...)\u001b[0m\n\u001b[1;32m     92\u001b[0m \u001b[38;5;124;03m@@UNKNOWN_CARDINALITY\u001b[39;00m\n\u001b[1;32m     93\u001b[0m \u001b[38;5;124;03m\"\"\"\u001b[39;00m\n\u001b[1;32m     95\u001b[0m \u001b[38;5;66;03m# pylint: disable=unused-import\u001b[39;00m\n\u001b[0;32m---> 96\u001b[0m \u001b[38;5;28;01mfrom\u001b[39;00m \u001b[38;5;21;01mtensorflow\u001b[39;00m\u001b[38;5;21;01m.\u001b[39;00m\u001b[38;5;21;01mpython\u001b[39;00m\u001b[38;5;21;01m.\u001b[39;00m\u001b[38;5;21;01mdata\u001b[39;00m\u001b[38;5;21;01m.\u001b[39;00m\u001b[38;5;21;01mexperimental\u001b[39;00m \u001b[38;5;28;01mimport\u001b[39;00m service\n\u001b[1;32m     97\u001b[0m \u001b[38;5;28;01mfrom\u001b[39;00m \u001b[38;5;21;01mtensorflow\u001b[39;00m\u001b[38;5;21;01m.\u001b[39;00m\u001b[38;5;21;01mpython\u001b[39;00m\u001b[38;5;21;01m.\u001b[39;00m\u001b[38;5;21;01mdata\u001b[39;00m\u001b[38;5;21;01m.\u001b[39;00m\u001b[38;5;21;01mexperimental\u001b[39;00m\u001b[38;5;21;01m.\u001b[39;00m\u001b[38;5;21;01mops\u001b[39;00m\u001b[38;5;21;01m.\u001b[39;00m\u001b[38;5;21;01mbatching\u001b[39;00m \u001b[38;5;28;01mimport\u001b[39;00m dense_to_ragged_batch\n\u001b[1;32m     98\u001b[0m \u001b[38;5;28;01mfrom\u001b[39;00m \u001b[38;5;21;01mtensorflow\u001b[39;00m\u001b[38;5;21;01m.\u001b[39;00m\u001b[38;5;21;01mpython\u001b[39;00m\u001b[38;5;21;01m.\u001b[39;00m\u001b[38;5;21;01mdata\u001b[39;00m\u001b[38;5;21;01m.\u001b[39;00m\u001b[38;5;21;01mexperimental\u001b[39;00m\u001b[38;5;21;01m.\u001b[39;00m\u001b[38;5;21;01mops\u001b[39;00m\u001b[38;5;21;01m.\u001b[39;00m\u001b[38;5;21;01mbatching\u001b[39;00m \u001b[38;5;28;01mimport\u001b[39;00m dense_to_sparse_batch\n",
      "File \u001b[0;32m~/miniconda3/envs/tensorflow/lib/python3.10/site-packages/tensorflow/python/data/experimental/service/__init__.py:419\u001b[0m\n\u001b[1;32m      1\u001b[0m \u001b[38;5;66;03m# Copyright 2020 The TensorFlow Authors. All Rights Reserved.\u001b[39;00m\n\u001b[1;32m      2\u001b[0m \u001b[38;5;66;03m#\u001b[39;00m\n\u001b[1;32m      3\u001b[0m \u001b[38;5;66;03m# Licensed under the Apache License, Version 2.0 (the \"License\");\u001b[39;00m\n\u001b[0;32m   (...)\u001b[0m\n\u001b[1;32m     13\u001b[0m \u001b[38;5;66;03m# limitations under the License.\u001b[39;00m\n\u001b[1;32m     14\u001b[0m \u001b[38;5;66;03m# ==============================================================================\u001b[39;00m\n\u001b[1;32m     15\u001b[0m \u001b[38;5;124;03m\"\"\"API for using the tf.data service.\u001b[39;00m\n\u001b[1;32m     16\u001b[0m \n\u001b[1;32m     17\u001b[0m \u001b[38;5;124;03mThis module contains:\u001b[39;00m\n\u001b[0;32m   (...)\u001b[0m\n\u001b[1;32m    416\u001b[0m \u001b[38;5;124;03m  job of ParameterServerStrategy).\u001b[39;00m\n\u001b[1;32m    417\u001b[0m \u001b[38;5;124;03m\"\"\"\u001b[39;00m\n\u001b[0;32m--> 419\u001b[0m \u001b[38;5;28;01mfrom\u001b[39;00m \u001b[38;5;21;01mtensorflow\u001b[39;00m\u001b[38;5;21;01m.\u001b[39;00m\u001b[38;5;21;01mpython\u001b[39;00m\u001b[38;5;21;01m.\u001b[39;00m\u001b[38;5;21;01mdata\u001b[39;00m\u001b[38;5;21;01m.\u001b[39;00m\u001b[38;5;21;01mexperimental\u001b[39;00m\u001b[38;5;21;01m.\u001b[39;00m\u001b[38;5;21;01mops\u001b[39;00m\u001b[38;5;21;01m.\u001b[39;00m\u001b[38;5;21;01mdata_service_ops\u001b[39;00m \u001b[38;5;28;01mimport\u001b[39;00m distribute\n\u001b[1;32m    420\u001b[0m \u001b[38;5;28;01mfrom\u001b[39;00m \u001b[38;5;21;01mtensorflow\u001b[39;00m\u001b[38;5;21;01m.\u001b[39;00m\u001b[38;5;21;01mpython\u001b[39;00m\u001b[38;5;21;01m.\u001b[39;00m\u001b[38;5;21;01mdata\u001b[39;00m\u001b[38;5;21;01m.\u001b[39;00m\u001b[38;5;21;01mexperimental\u001b[39;00m\u001b[38;5;21;01m.\u001b[39;00m\u001b[38;5;21;01mops\u001b[39;00m\u001b[38;5;21;01m.\u001b[39;00m\u001b[38;5;21;01mdata_service_ops\u001b[39;00m \u001b[38;5;28;01mimport\u001b[39;00m from_dataset_id\n\u001b[1;32m    421\u001b[0m \u001b[38;5;28;01mfrom\u001b[39;00m \u001b[38;5;21;01mtensorflow\u001b[39;00m\u001b[38;5;21;01m.\u001b[39;00m\u001b[38;5;21;01mpython\u001b[39;00m\u001b[38;5;21;01m.\u001b[39;00m\u001b[38;5;21;01mdata\u001b[39;00m\u001b[38;5;21;01m.\u001b[39;00m\u001b[38;5;21;01mexperimental\u001b[39;00m\u001b[38;5;21;01m.\u001b[39;00m\u001b[38;5;21;01mops\u001b[39;00m\u001b[38;5;21;01m.\u001b[39;00m\u001b[38;5;21;01mdata_service_ops\u001b[39;00m \u001b[38;5;28;01mimport\u001b[39;00m register_dataset\n",
      "File \u001b[0;32m~/miniconda3/envs/tensorflow/lib/python3.10/site-packages/tensorflow/python/data/experimental/ops/data_service_ops.py:22\u001b[0m\n\u001b[1;32m     20\u001b[0m \u001b[38;5;28;01mfrom\u001b[39;00m \u001b[38;5;21;01mtensorflow\u001b[39;00m\u001b[38;5;21;01m.\u001b[39;00m\u001b[38;5;21;01mcore\u001b[39;00m\u001b[38;5;21;01m.\u001b[39;00m\u001b[38;5;21;01mprotobuf\u001b[39;00m \u001b[38;5;28;01mimport\u001b[39;00m data_service_pb2\n\u001b[1;32m     21\u001b[0m \u001b[38;5;28;01mfrom\u001b[39;00m \u001b[38;5;21;01mtensorflow\u001b[39;00m\u001b[38;5;21;01m.\u001b[39;00m\u001b[38;5;21;01mpython\u001b[39;00m \u001b[38;5;28;01mimport\u001b[39;00m tf2\n\u001b[0;32m---> 22\u001b[0m \u001b[38;5;28;01mfrom\u001b[39;00m \u001b[38;5;21;01mtensorflow\u001b[39;00m\u001b[38;5;21;01m.\u001b[39;00m\u001b[38;5;21;01mpython\u001b[39;00m\u001b[38;5;21;01m.\u001b[39;00m\u001b[38;5;21;01mdata\u001b[39;00m\u001b[38;5;21;01m.\u001b[39;00m\u001b[38;5;21;01mexperimental\u001b[39;00m\u001b[38;5;21;01m.\u001b[39;00m\u001b[38;5;21;01mops\u001b[39;00m \u001b[38;5;28;01mimport\u001b[39;00m compression_ops\n\u001b[1;32m     23\u001b[0m \u001b[38;5;28;01mfrom\u001b[39;00m \u001b[38;5;21;01mtensorflow\u001b[39;00m\u001b[38;5;21;01m.\u001b[39;00m\u001b[38;5;21;01mpython\u001b[39;00m\u001b[38;5;21;01m.\u001b[39;00m\u001b[38;5;21;01mdata\u001b[39;00m\u001b[38;5;21;01m.\u001b[39;00m\u001b[38;5;21;01mexperimental\u001b[39;00m\u001b[38;5;21;01m.\u001b[39;00m\u001b[38;5;21;01mservice\u001b[39;00m \u001b[38;5;28;01mimport\u001b[39;00m _pywrap_server_lib\n\u001b[1;32m     24\u001b[0m \u001b[38;5;28;01mfrom\u001b[39;00m \u001b[38;5;21;01mtensorflow\u001b[39;00m\u001b[38;5;21;01m.\u001b[39;00m\u001b[38;5;21;01mpython\u001b[39;00m\u001b[38;5;21;01m.\u001b[39;00m\u001b[38;5;21;01mdata\u001b[39;00m\u001b[38;5;21;01m.\u001b[39;00m\u001b[38;5;21;01mexperimental\u001b[39;00m\u001b[38;5;21;01m.\u001b[39;00m\u001b[38;5;21;01mservice\u001b[39;00m \u001b[38;5;28;01mimport\u001b[39;00m _pywrap_utils\n",
      "File \u001b[0;32m~/miniconda3/envs/tensorflow/lib/python3.10/site-packages/tensorflow/python/data/experimental/ops/compression_ops.py:16\u001b[0m\n\u001b[1;32m      1\u001b[0m \u001b[38;5;66;03m# Copyright 2020 The TensorFlow Authors. All Rights Reserved.\u001b[39;00m\n\u001b[1;32m      2\u001b[0m \u001b[38;5;66;03m#\u001b[39;00m\n\u001b[1;32m      3\u001b[0m \u001b[38;5;66;03m# Licensed under the Apache License, Version 2.0 (the \"License\");\u001b[39;00m\n\u001b[0;32m   (...)\u001b[0m\n\u001b[1;32m     13\u001b[0m \u001b[38;5;66;03m# limitations under the License.\u001b[39;00m\n\u001b[1;32m     14\u001b[0m \u001b[38;5;66;03m# ==============================================================================\u001b[39;00m\n\u001b[1;32m     15\u001b[0m \u001b[38;5;124;03m\"\"\"Ops for compressing and uncompressing dataset elements.\"\"\"\u001b[39;00m\n\u001b[0;32m---> 16\u001b[0m \u001b[38;5;28;01mfrom\u001b[39;00m \u001b[38;5;21;01mtensorflow\u001b[39;00m\u001b[38;5;21;01m.\u001b[39;00m\u001b[38;5;21;01mpython\u001b[39;00m\u001b[38;5;21;01m.\u001b[39;00m\u001b[38;5;21;01mdata\u001b[39;00m\u001b[38;5;21;01m.\u001b[39;00m\u001b[38;5;21;01mutil\u001b[39;00m \u001b[38;5;28;01mimport\u001b[39;00m structure\n\u001b[1;32m     17\u001b[0m \u001b[38;5;28;01mfrom\u001b[39;00m \u001b[38;5;21;01mtensorflow\u001b[39;00m\u001b[38;5;21;01m.\u001b[39;00m\u001b[38;5;21;01mpython\u001b[39;00m\u001b[38;5;21;01m.\u001b[39;00m\u001b[38;5;21;01mops\u001b[39;00m \u001b[38;5;28;01mimport\u001b[39;00m gen_experimental_dataset_ops \u001b[38;5;28;01mas\u001b[39;00m ged_ops\n\u001b[1;32m     20\u001b[0m \u001b[38;5;28;01mdef\u001b[39;00m \u001b[38;5;21mcompress\u001b[39m(element):\n",
      "File \u001b[0;32m~/miniconda3/envs/tensorflow/lib/python3.10/site-packages/tensorflow/python/data/util/structure.py:22\u001b[0m\n\u001b[1;32m     18\u001b[0m \u001b[38;5;28;01mimport\u001b[39;00m \u001b[38;5;21;01mitertools\u001b[39;00m\n\u001b[1;32m     20\u001b[0m \u001b[38;5;28;01mimport\u001b[39;00m \u001b[38;5;21;01mwrapt\u001b[39;00m\n\u001b[0;32m---> 22\u001b[0m \u001b[38;5;28;01mfrom\u001b[39;00m \u001b[38;5;21;01mtensorflow\u001b[39;00m\u001b[38;5;21;01m.\u001b[39;00m\u001b[38;5;21;01mpython\u001b[39;00m\u001b[38;5;21;01m.\u001b[39;00m\u001b[38;5;21;01mdata\u001b[39;00m\u001b[38;5;21;01m.\u001b[39;00m\u001b[38;5;21;01mutil\u001b[39;00m \u001b[38;5;28;01mimport\u001b[39;00m nest\n\u001b[1;32m     23\u001b[0m \u001b[38;5;28;01mfrom\u001b[39;00m \u001b[38;5;21;01mtensorflow\u001b[39;00m\u001b[38;5;21;01m.\u001b[39;00m\u001b[38;5;21;01mpython\u001b[39;00m\u001b[38;5;21;01m.\u001b[39;00m\u001b[38;5;21;01mframework\u001b[39;00m \u001b[38;5;28;01mimport\u001b[39;00m composite_tensor\n\u001b[1;32m     24\u001b[0m \u001b[38;5;28;01mfrom\u001b[39;00m \u001b[38;5;21;01mtensorflow\u001b[39;00m\u001b[38;5;21;01m.\u001b[39;00m\u001b[38;5;21;01mpython\u001b[39;00m\u001b[38;5;21;01m.\u001b[39;00m\u001b[38;5;21;01mframework\u001b[39;00m \u001b[38;5;28;01mimport\u001b[39;00m ops\n",
      "File \u001b[0;32m~/miniconda3/envs/tensorflow/lib/python3.10/site-packages/tensorflow/python/data/util/nest.py:34\u001b[0m\n\u001b[1;32m      1\u001b[0m \u001b[38;5;66;03m# Copyright 2017 The TensorFlow Authors. All Rights Reserved.\u001b[39;00m\n\u001b[1;32m      2\u001b[0m \u001b[38;5;66;03m#\u001b[39;00m\n\u001b[1;32m      3\u001b[0m \u001b[38;5;66;03m# Licensed under the Apache License, Version 2.0 (the \"License\");\u001b[39;00m\n\u001b[0;32m   (...)\u001b[0m\n\u001b[1;32m     13\u001b[0m \u001b[38;5;66;03m# limitations under the License.\u001b[39;00m\n\u001b[1;32m     14\u001b[0m \u001b[38;5;66;03m# ==============================================================================\u001b[39;00m\n\u001b[1;32m     16\u001b[0m \u001b[38;5;124;03m\"\"\"## Functions for working with arbitrarily nested sequences of elements.\u001b[39;00m\n\u001b[1;32m     17\u001b[0m \n\u001b[1;32m     18\u001b[0m \u001b[38;5;124;03mNOTE(mrry): This fork of the `tensorflow.python.util.nest` module\u001b[39;00m\n\u001b[0;32m   (...)\u001b[0m\n\u001b[1;32m     31\u001b[0m \u001b[38;5;124;03m   arrays.\u001b[39;00m\n\u001b[1;32m     32\u001b[0m \u001b[38;5;124;03m\"\"\"\u001b[39;00m\n\u001b[0;32m---> 34\u001b[0m \u001b[38;5;28;01mfrom\u001b[39;00m \u001b[38;5;21;01mtensorflow\u001b[39;00m\u001b[38;5;21;01m.\u001b[39;00m\u001b[38;5;21;01mpython\u001b[39;00m\u001b[38;5;21;01m.\u001b[39;00m\u001b[38;5;21;01mframework\u001b[39;00m \u001b[38;5;28;01mimport\u001b[39;00m sparse_tensor \u001b[38;5;28;01mas\u001b[39;00m _sparse_tensor\n\u001b[1;32m     35\u001b[0m \u001b[38;5;28;01mfrom\u001b[39;00m \u001b[38;5;21;01mtensorflow\u001b[39;00m\u001b[38;5;21;01m.\u001b[39;00m\u001b[38;5;21;01mpython\u001b[39;00m\u001b[38;5;21;01m.\u001b[39;00m\u001b[38;5;21;01mutil\u001b[39;00m \u001b[38;5;28;01mimport\u001b[39;00m _pywrap_utils\n\u001b[1;32m     36\u001b[0m \u001b[38;5;28;01mfrom\u001b[39;00m \u001b[38;5;21;01mtensorflow\u001b[39;00m\u001b[38;5;21;01m.\u001b[39;00m\u001b[38;5;21;01mpython\u001b[39;00m\u001b[38;5;21;01m.\u001b[39;00m\u001b[38;5;21;01mutil\u001b[39;00m \u001b[38;5;28;01mimport\u001b[39;00m nest\n",
      "File \u001b[0;32m~/miniconda3/envs/tensorflow/lib/python3.10/site-packages/tensorflow/python/framework/sparse_tensor.py:24\u001b[0m\n\u001b[1;32m     22\u001b[0m \u001b[38;5;28;01mfrom\u001b[39;00m \u001b[38;5;21;01mtensorflow\u001b[39;00m\u001b[38;5;21;01m.\u001b[39;00m\u001b[38;5;21;01mpython\u001b[39;00m \u001b[38;5;28;01mimport\u001b[39;00m tf2\n\u001b[1;32m     23\u001b[0m \u001b[38;5;28;01mfrom\u001b[39;00m \u001b[38;5;21;01mtensorflow\u001b[39;00m\u001b[38;5;21;01m.\u001b[39;00m\u001b[38;5;21;01mpython\u001b[39;00m\u001b[38;5;21;01m.\u001b[39;00m\u001b[38;5;21;01mframework\u001b[39;00m \u001b[38;5;28;01mimport\u001b[39;00m composite_tensor\n\u001b[0;32m---> 24\u001b[0m \u001b[38;5;28;01mfrom\u001b[39;00m \u001b[38;5;21;01mtensorflow\u001b[39;00m\u001b[38;5;21;01m.\u001b[39;00m\u001b[38;5;21;01mpython\u001b[39;00m\u001b[38;5;21;01m.\u001b[39;00m\u001b[38;5;21;01mframework\u001b[39;00m \u001b[38;5;28;01mimport\u001b[39;00m constant_op\n\u001b[1;32m     25\u001b[0m \u001b[38;5;28;01mfrom\u001b[39;00m \u001b[38;5;21;01mtensorflow\u001b[39;00m\u001b[38;5;21;01m.\u001b[39;00m\u001b[38;5;21;01mpython\u001b[39;00m\u001b[38;5;21;01m.\u001b[39;00m\u001b[38;5;21;01mframework\u001b[39;00m \u001b[38;5;28;01mimport\u001b[39;00m dtypes\n\u001b[1;32m     26\u001b[0m \u001b[38;5;28;01mfrom\u001b[39;00m \u001b[38;5;21;01mtensorflow\u001b[39;00m\u001b[38;5;21;01m.\u001b[39;00m\u001b[38;5;21;01mpython\u001b[39;00m\u001b[38;5;21;01m.\u001b[39;00m\u001b[38;5;21;01mframework\u001b[39;00m \u001b[38;5;28;01mimport\u001b[39;00m ops\n",
      "File \u001b[0;32m~/miniconda3/envs/tensorflow/lib/python3.10/site-packages/tensorflow/python/framework/constant_op.py:25\u001b[0m\n\u001b[1;32m     23\u001b[0m \u001b[38;5;28;01mfrom\u001b[39;00m \u001b[38;5;21;01mtensorflow\u001b[39;00m\u001b[38;5;21;01m.\u001b[39;00m\u001b[38;5;21;01mcore\u001b[39;00m\u001b[38;5;21;01m.\u001b[39;00m\u001b[38;5;21;01mframework\u001b[39;00m \u001b[38;5;28;01mimport\u001b[39;00m types_pb2\n\u001b[1;32m     24\u001b[0m \u001b[38;5;28;01mfrom\u001b[39;00m \u001b[38;5;21;01mtensorflow\u001b[39;00m\u001b[38;5;21;01m.\u001b[39;00m\u001b[38;5;21;01mpython\u001b[39;00m\u001b[38;5;21;01m.\u001b[39;00m\u001b[38;5;21;01meager\u001b[39;00m \u001b[38;5;28;01mimport\u001b[39;00m context\n\u001b[0;32m---> 25\u001b[0m \u001b[38;5;28;01mfrom\u001b[39;00m \u001b[38;5;21;01mtensorflow\u001b[39;00m\u001b[38;5;21;01m.\u001b[39;00m\u001b[38;5;21;01mpython\u001b[39;00m\u001b[38;5;21;01m.\u001b[39;00m\u001b[38;5;21;01meager\u001b[39;00m \u001b[38;5;28;01mimport\u001b[39;00m execute\n\u001b[1;32m     26\u001b[0m \u001b[38;5;28;01mfrom\u001b[39;00m \u001b[38;5;21;01mtensorflow\u001b[39;00m\u001b[38;5;21;01m.\u001b[39;00m\u001b[38;5;21;01mpython\u001b[39;00m\u001b[38;5;21;01m.\u001b[39;00m\u001b[38;5;21;01mframework\u001b[39;00m \u001b[38;5;28;01mimport\u001b[39;00m dtypes\n\u001b[1;32m     27\u001b[0m \u001b[38;5;28;01mfrom\u001b[39;00m \u001b[38;5;21;01mtensorflow\u001b[39;00m\u001b[38;5;21;01m.\u001b[39;00m\u001b[38;5;21;01mpython\u001b[39;00m\u001b[38;5;21;01m.\u001b[39;00m\u001b[38;5;21;01mframework\u001b[39;00m \u001b[38;5;28;01mimport\u001b[39;00m op_callbacks\n",
      "File \u001b[0;32m~/miniconda3/envs/tensorflow/lib/python3.10/site-packages/tensorflow/python/eager/execute.py:21\u001b[0m\n\u001b[1;32m     19\u001b[0m \u001b[38;5;28;01mfrom\u001b[39;00m \u001b[38;5;21;01mtensorflow\u001b[39;00m\u001b[38;5;21;01m.\u001b[39;00m\u001b[38;5;21;01mpython\u001b[39;00m \u001b[38;5;28;01mimport\u001b[39;00m pywrap_tfe\n\u001b[1;32m     20\u001b[0m \u001b[38;5;28;01mfrom\u001b[39;00m \u001b[38;5;21;01mtensorflow\u001b[39;00m\u001b[38;5;21;01m.\u001b[39;00m\u001b[38;5;21;01mpython\u001b[39;00m\u001b[38;5;21;01m.\u001b[39;00m\u001b[38;5;21;01meager\u001b[39;00m \u001b[38;5;28;01mimport\u001b[39;00m core\n\u001b[0;32m---> 21\u001b[0m \u001b[38;5;28;01mfrom\u001b[39;00m \u001b[38;5;21;01mtensorflow\u001b[39;00m\u001b[38;5;21;01m.\u001b[39;00m\u001b[38;5;21;01mpython\u001b[39;00m\u001b[38;5;21;01m.\u001b[39;00m\u001b[38;5;21;01mframework\u001b[39;00m \u001b[38;5;28;01mimport\u001b[39;00m dtypes\n\u001b[1;32m     22\u001b[0m \u001b[38;5;28;01mfrom\u001b[39;00m \u001b[38;5;21;01mtensorflow\u001b[39;00m\u001b[38;5;21;01m.\u001b[39;00m\u001b[38;5;21;01mpython\u001b[39;00m\u001b[38;5;21;01m.\u001b[39;00m\u001b[38;5;21;01mframework\u001b[39;00m \u001b[38;5;28;01mimport\u001b[39;00m ops\n\u001b[1;32m     23\u001b[0m \u001b[38;5;28;01mfrom\u001b[39;00m \u001b[38;5;21;01mtensorflow\u001b[39;00m\u001b[38;5;21;01m.\u001b[39;00m\u001b[38;5;21;01mpython\u001b[39;00m\u001b[38;5;21;01m.\u001b[39;00m\u001b[38;5;21;01mframework\u001b[39;00m \u001b[38;5;28;01mimport\u001b[39;00m tensor_shape\n",
      "File \u001b[0;32m~/miniconda3/envs/tensorflow/lib/python3.10/site-packages/tensorflow/python/framework/dtypes.py:34\u001b[0m\n\u001b[1;32m     31\u001b[0m \u001b[38;5;28;01mfrom\u001b[39;00m \u001b[38;5;21;01mtensorflow\u001b[39;00m\u001b[38;5;21;01m.\u001b[39;00m\u001b[38;5;21;01mpython\u001b[39;00m\u001b[38;5;21;01m.\u001b[39;00m\u001b[38;5;21;01mtypes\u001b[39;00m \u001b[38;5;28;01mimport\u001b[39;00m trace\n\u001b[1;32m     32\u001b[0m \u001b[38;5;28;01mfrom\u001b[39;00m \u001b[38;5;21;01mtensorflow\u001b[39;00m\u001b[38;5;21;01m.\u001b[39;00m\u001b[38;5;21;01mcore\u001b[39;00m\u001b[38;5;21;01m.\u001b[39;00m\u001b[38;5;21;01mfunction\u001b[39;00m \u001b[38;5;28;01mimport\u001b[39;00m trace_type\n\u001b[0;32m---> 34\u001b[0m _np_bfloat16 \u001b[38;5;241m=\u001b[39m \u001b[43m_pywrap_bfloat16\u001b[49m\u001b[38;5;241;43m.\u001b[39;49m\u001b[43mTF_bfloat16_type\u001b[49m\u001b[43m(\u001b[49m\u001b[43m)\u001b[49m\n\u001b[1;32m     37\u001b[0m \u001b[38;5;28;01mclass\u001b[39;00m \u001b[38;5;21;01mDTypeMeta\u001b[39;00m(\u001b[38;5;28mtype\u001b[39m(_dtypes\u001b[38;5;241m.\u001b[39mDType), abc\u001b[38;5;241m.\u001b[39mABCMeta):\n\u001b[1;32m     38\u001b[0m   \u001b[38;5;28;01mpass\u001b[39;00m\n",
      "\u001b[0;31mTypeError\u001b[0m: Unable to convert function return value to a Python type! The signature was\n\t() -> handle"
     ]
    }
   ],
   "source": [
    "# Callbacks\n",
    "import tensorflow as tf\n",
    "\n",
    "\n",
    "checkpoint_cb = tf.keras.callbacks.ModelCheckpoint(\"my_checkpoints\", save_weights_only = True)"
   ]
  },
  {
   "cell_type": "code",
   "execution_count": 7,
   "id": "bb96154b",
   "metadata": {
    "scrolled": true
   },
   "outputs": [
    {
     "name": "stdout",
     "output_type": "stream",
     "text": [
      "Epoch 1/20\n"
     ]
    },
    {
     "name": "stderr",
     "output_type": "stream",
     "text": [
      "2023-03-06 15:51:53.003869: W tensorflow/tsl/platform/profile_utils/cpu_utils.cc:128] Failed to get CPU frequency: 0 Hz\n"
     ]
    },
    {
     "name": "stdout",
     "output_type": "stream",
     "text": [
      "\r",
      "  1/413 [..............................] - ETA: 2:59 - loss: 0.2371 - output_1_loss: 0.2231 - output_2_loss: 0.3637 - output_1_root_mean_squared_error: 0.4723 - output_2_root_mean_squared_error: 0.6031"
     ]
    },
    {
     "name": "stderr",
     "output_type": "stream",
     "text": [
      "2023-03-06 15:51:53.290143: I tensorflow/core/grappler/optimizers/custom_graph_optimizer_registry.cc:114] Plugin optimizer for device_type GPU is enabled.\n"
     ]
    },
    {
     "name": "stdout",
     "output_type": "stream",
     "text": [
      "413/413 [==============================] - ETA: 0s - loss: 0.3287 - output_1_loss: 0.3222 - output_2_loss: 0.3874 - output_1_root_mean_squared_error: 0.5677 - output_2_root_mean_squared_error: 0.6224"
     ]
    },
    {
     "name": "stderr",
     "output_type": "stream",
     "text": [
      "2023-03-06 15:51:56.417050: I tensorflow/core/grappler/optimizers/custom_graph_optimizer_registry.cc:114] Plugin optimizer for device_type GPU is enabled.\n"
     ]
    },
    {
     "name": "stdout",
     "output_type": "stream",
     "text": [
      "413/413 [==============================] - 4s 8ms/step - loss: 0.3287 - output_1_loss: 0.3222 - output_2_loss: 0.3874 - output_1_root_mean_squared_error: 0.5677 - output_2_root_mean_squared_error: 0.6224 - val_loss: 0.3377 - val_output_1_loss: 0.3310 - val_output_2_loss: 0.3980 - val_output_1_root_mean_squared_error: 0.5754 - val_output_2_root_mean_squared_error: 0.6308\n",
      "Epoch 2/20\n",
      "413/413 [==============================] - 3s 8ms/step - loss: 0.3367 - output_1_loss: 0.3300 - output_2_loss: 0.3966 - output_1_root_mean_squared_error: 0.5745 - output_2_root_mean_squared_error: 0.6297 - val_loss: 0.3329 - val_output_1_loss: 0.3263 - val_output_2_loss: 0.3923 - val_output_1_root_mean_squared_error: 0.5712 - val_output_2_root_mean_squared_error: 0.6263\n",
      "Epoch 3/20\n",
      "413/413 [==============================] - 3s 8ms/step - loss: 0.3239 - output_1_loss: 0.3173 - output_2_loss: 0.3826 - output_1_root_mean_squared_error: 0.5633 - output_2_root_mean_squared_error: 0.6186 - val_loss: 0.3430 - val_output_1_loss: 0.3363 - val_output_2_loss: 0.4035 - val_output_1_root_mean_squared_error: 0.5799 - val_output_2_root_mean_squared_error: 0.6352\n",
      "Epoch 4/20\n",
      "413/413 [==============================] - 3s 7ms/step - loss: 0.3263 - output_1_loss: 0.3200 - output_2_loss: 0.3837 - output_1_root_mean_squared_error: 0.5656 - output_2_root_mean_squared_error: 0.6194 - val_loss: 0.3299 - val_output_1_loss: 0.3236 - val_output_2_loss: 0.3867 - val_output_1_root_mean_squared_error: 0.5689 - val_output_2_root_mean_squared_error: 0.6219\n",
      "Epoch 5/20\n",
      "413/413 [==============================] - 3s 8ms/step - loss: 0.3253 - output_1_loss: 0.3188 - output_2_loss: 0.3838 - output_1_root_mean_squared_error: 0.5646 - output_2_root_mean_squared_error: 0.6195 - val_loss: 0.3311 - val_output_1_loss: 0.3246 - val_output_2_loss: 0.3897 - val_output_1_root_mean_squared_error: 0.5697 - val_output_2_root_mean_squared_error: 0.6242\n",
      "Epoch 6/20\n",
      "413/413 [==============================] - 3s 7ms/step - loss: 0.3223 - output_1_loss: 0.3160 - output_2_loss: 0.3793 - output_1_root_mean_squared_error: 0.5621 - output_2_root_mean_squared_error: 0.6159 - val_loss: 0.3293 - val_output_1_loss: 0.3228 - val_output_2_loss: 0.3875 - val_output_1_root_mean_squared_error: 0.5682 - val_output_2_root_mean_squared_error: 0.6225\n",
      "Epoch 7/20\n",
      "413/413 [==============================] - 3s 7ms/step - loss: 0.3230 - output_1_loss: 0.3169 - output_2_loss: 0.3781 - output_1_root_mean_squared_error: 0.5629 - output_2_root_mean_squared_error: 0.6149 - val_loss: 0.3266 - val_output_1_loss: 0.3201 - val_output_2_loss: 0.3848 - val_output_1_root_mean_squared_error: 0.5658 - val_output_2_root_mean_squared_error: 0.6204\n",
      "Epoch 8/20\n",
      "413/413 [==============================] - 3s 7ms/step - loss: 0.3214 - output_1_loss: 0.3153 - output_2_loss: 0.3765 - output_1_root_mean_squared_error: 0.5616 - output_2_root_mean_squared_error: 0.6136 - val_loss: 0.3272 - val_output_1_loss: 0.3208 - val_output_2_loss: 0.3848 - val_output_1_root_mean_squared_error: 0.5664 - val_output_2_root_mean_squared_error: 0.6203\n",
      "Epoch 9/20\n",
      "413/413 [==============================] - 3s 8ms/step - loss: 0.3194 - output_1_loss: 0.3132 - output_2_loss: 0.3756 - output_1_root_mean_squared_error: 0.5596 - output_2_root_mean_squared_error: 0.6129 - val_loss: 0.3260 - val_output_1_loss: 0.3197 - val_output_2_loss: 0.3828 - val_output_1_root_mean_squared_error: 0.5654 - val_output_2_root_mean_squared_error: 0.6187\n",
      "Epoch 10/20\n",
      "413/413 [==============================] - 3s 8ms/step - loss: 0.3185 - output_1_loss: 0.3122 - output_2_loss: 0.3748 - output_1_root_mean_squared_error: 0.5588 - output_2_root_mean_squared_error: 0.6122 - val_loss: 0.3352 - val_output_1_loss: 0.3292 - val_output_2_loss: 0.3890 - val_output_1_root_mean_squared_error: 0.5738 - val_output_2_root_mean_squared_error: 0.6237\n",
      "Epoch 11/20\n",
      "413/413 [==============================] - 3s 7ms/step - loss: 0.3175 - output_1_loss: 0.3115 - output_2_loss: 0.3713 - output_1_root_mean_squared_error: 0.5581 - output_2_root_mean_squared_error: 0.6093 - val_loss: 0.3386 - val_output_1_loss: 0.3328 - val_output_2_loss: 0.3906 - val_output_1_root_mean_squared_error: 0.5769 - val_output_2_root_mean_squared_error: 0.6250\n",
      "Epoch 12/20\n",
      "413/413 [==============================] - 3s 7ms/step - loss: 0.3203 - output_1_loss: 0.3143 - output_2_loss: 0.3737 - output_1_root_mean_squared_error: 0.5607 - output_2_root_mean_squared_error: 0.6113 - val_loss: 0.3316 - val_output_1_loss: 0.3253 - val_output_2_loss: 0.3885 - val_output_1_root_mean_squared_error: 0.5703 - val_output_2_root_mean_squared_error: 0.6233\n",
      "Epoch 13/20\n",
      "413/413 [==============================] - 3s 7ms/step - loss: 0.3157 - output_1_loss: 0.3098 - output_2_loss: 0.3693 - output_1_root_mean_squared_error: 0.5566 - output_2_root_mean_squared_error: 0.6077 - val_loss: 0.3318 - val_output_1_loss: 0.3255 - val_output_2_loss: 0.3880 - val_output_1_root_mean_squared_error: 0.5705 - val_output_2_root_mean_squared_error: 0.6229\n",
      "Epoch 14/20\n",
      "413/413 [==============================] - 3s 7ms/step - loss: 0.3165 - output_1_loss: 0.3107 - output_2_loss: 0.3690 - output_1_root_mean_squared_error: 0.5574 - output_2_root_mean_squared_error: 0.6075 - val_loss: 0.3329 - val_output_1_loss: 0.3266 - val_output_2_loss: 0.3903 - val_output_1_root_mean_squared_error: 0.5714 - val_output_2_root_mean_squared_error: 0.6247\n",
      "Epoch 15/20\n",
      "413/413 [==============================] - 3s 7ms/step - loss: 0.3116 - output_1_loss: 0.3058 - output_2_loss: 0.3642 - output_1_root_mean_squared_error: 0.5530 - output_2_root_mean_squared_error: 0.6035 - val_loss: 0.3258 - val_output_1_loss: 0.3196 - val_output_2_loss: 0.3814 - val_output_1_root_mean_squared_error: 0.5653 - val_output_2_root_mean_squared_error: 0.6176\n",
      "Epoch 16/20\n",
      "413/413 [==============================] - 3s 7ms/step - loss: 0.3143 - output_1_loss: 0.3084 - output_2_loss: 0.3673 - output_1_root_mean_squared_error: 0.5553 - output_2_root_mean_squared_error: 0.6060 - val_loss: 0.3327 - val_output_1_loss: 0.3269 - val_output_2_loss: 0.3848 - val_output_1_root_mean_squared_error: 0.5717 - val_output_2_root_mean_squared_error: 0.6203\n",
      "Epoch 17/20\n",
      "413/413 [==============================] - 3s 8ms/step - loss: 0.3166 - output_1_loss: 0.3109 - output_2_loss: 0.3674 - output_1_root_mean_squared_error: 0.5576 - output_2_root_mean_squared_error: 0.6062 - val_loss: 0.3171 - val_output_1_loss: 0.3114 - val_output_2_loss: 0.3688 - val_output_1_root_mean_squared_error: 0.5580 - val_output_2_root_mean_squared_error: 0.6073\n",
      "Epoch 18/20\n",
      "413/413 [==============================] - 3s 7ms/step - loss: 0.3120 - output_1_loss: 0.3063 - output_2_loss: 0.3638 - output_1_root_mean_squared_error: 0.5534 - output_2_root_mean_squared_error: 0.6032 - val_loss: 0.3333 - val_output_1_loss: 0.3274 - val_output_2_loss: 0.3872 - val_output_1_root_mean_squared_error: 0.5722 - val_output_2_root_mean_squared_error: 0.6223\n",
      "Epoch 19/20\n",
      "413/413 [==============================] - 3s 8ms/step - loss: 0.3099 - output_1_loss: 0.3040 - output_2_loss: 0.3631 - output_1_root_mean_squared_error: 0.5514 - output_2_root_mean_squared_error: 0.6025 - val_loss: 0.3180 - val_output_1_loss: 0.3122 - val_output_2_loss: 0.3706 - val_output_1_root_mean_squared_error: 0.5587 - val_output_2_root_mean_squared_error: 0.6088\n",
      "Epoch 20/20\n",
      "413/413 [==============================] - 3s 7ms/step - loss: 0.3108 - output_1_loss: 0.3050 - output_2_loss: 0.3634 - output_1_root_mean_squared_error: 0.5522 - output_2_root_mean_squared_error: 0.6029 - val_loss: 0.3184 - val_output_1_loss: 0.3125 - val_output_2_loss: 0.3715 - val_output_1_root_mean_squared_error: 0.5590 - val_output_2_root_mean_squared_error: 0.6095\n"
     ]
    }
   ],
   "source": [
    "model_history = loaded_model.fit((X_train_wide, X_train_deep), (y_train, y_train), \n",
    "                          epochs=20, \n",
    "                          validation_data=((X_valid_wide, X_valid_deep), (y_valid, y_valid)), callbacks=[checkpoint_cb])"
   ]
  },
  {
   "cell_type": "code",
   "execution_count": 8,
   "id": "92156b32",
   "metadata": {
    "scrolled": true
   },
   "outputs": [
    {
     "name": "stdout",
     "output_type": "stream",
     "text": [
      "Epoch 1/20\n",
      "413/413 [==============================] - 3s 8ms/step - loss: 0.3078 - output_1_loss: 0.3021 - output_2_loss: 0.3583 - output_1_root_mean_squared_error: 0.5497 - output_2_root_mean_squared_error: 0.5986 - val_loss: 0.3162 - val_output_1_loss: 0.3101 - val_output_2_loss: 0.3714 - val_output_1_root_mean_squared_error: 0.5568 - val_output_2_root_mean_squared_error: 0.6094\n",
      "Epoch 2/20\n",
      "413/413 [==============================] - 3s 8ms/step - loss: 0.3085 - output_1_loss: 0.3030 - output_2_loss: 0.3583 - output_1_root_mean_squared_error: 0.5504 - output_2_root_mean_squared_error: 0.5986 - val_loss: 0.3237 - val_output_1_loss: 0.3180 - val_output_2_loss: 0.3753 - val_output_1_root_mean_squared_error: 0.5639 - val_output_2_root_mean_squared_error: 0.6127\n",
      "Epoch 3/20\n",
      "413/413 [==============================] - 3s 8ms/step - loss: 0.3082 - output_1_loss: 0.3026 - output_2_loss: 0.3580 - output_1_root_mean_squared_error: 0.5501 - output_2_root_mean_squared_error: 0.5983 - val_loss: 0.3218 - val_output_1_loss: 0.3159 - val_output_2_loss: 0.3752 - val_output_1_root_mean_squared_error: 0.5620 - val_output_2_root_mean_squared_error: 0.6126\n",
      "Epoch 4/20\n",
      "413/413 [==============================] - 3s 8ms/step - loss: 0.3061 - output_1_loss: 0.3006 - output_2_loss: 0.3555 - output_1_root_mean_squared_error: 0.5482 - output_2_root_mean_squared_error: 0.5962 - val_loss: 0.3181 - val_output_1_loss: 0.3119 - val_output_2_loss: 0.3736 - val_output_1_root_mean_squared_error: 0.5585 - val_output_2_root_mean_squared_error: 0.6112\n",
      "Epoch 5/20\n",
      "413/413 [==============================] - 3s 8ms/step - loss: 0.3060 - output_1_loss: 0.3006 - output_2_loss: 0.3550 - output_1_root_mean_squared_error: 0.5483 - output_2_root_mean_squared_error: 0.5958 - val_loss: 0.3164 - val_output_1_loss: 0.3107 - val_output_2_loss: 0.3678 - val_output_1_root_mean_squared_error: 0.5574 - val_output_2_root_mean_squared_error: 0.6065\n",
      "Epoch 6/20\n",
      "413/413 [==============================] - 3s 8ms/step - loss: 0.3049 - output_1_loss: 0.2993 - output_2_loss: 0.3546 - output_1_root_mean_squared_error: 0.5471 - output_2_root_mean_squared_error: 0.5955 - val_loss: 0.3146 - val_output_1_loss: 0.3091 - val_output_2_loss: 0.3641 - val_output_1_root_mean_squared_error: 0.5559 - val_output_2_root_mean_squared_error: 0.6034\n",
      "Epoch 7/20\n",
      "413/413 [==============================] - 3s 8ms/step - loss: 0.3084 - output_1_loss: 0.3031 - output_2_loss: 0.3558 - output_1_root_mean_squared_error: 0.5506 - output_2_root_mean_squared_error: 0.5965 - val_loss: 0.3268 - val_output_1_loss: 0.3211 - val_output_2_loss: 0.3786 - val_output_1_root_mean_squared_error: 0.5666 - val_output_2_root_mean_squared_error: 0.6153\n",
      "Epoch 8/20\n",
      "413/413 [==============================] - 3s 8ms/step - loss: 0.3030 - output_1_loss: 0.2976 - output_2_loss: 0.3515 - output_1_root_mean_squared_error: 0.5456 - output_2_root_mean_squared_error: 0.5929 - val_loss: 0.3182 - val_output_1_loss: 0.3125 - val_output_2_loss: 0.3699 - val_output_1_root_mean_squared_error: 0.5590 - val_output_2_root_mean_squared_error: 0.6082\n",
      "Epoch 9/20\n",
      "413/413 [==============================] - 3s 8ms/step - loss: 0.3045 - output_1_loss: 0.2991 - output_2_loss: 0.3528 - output_1_root_mean_squared_error: 0.5469 - output_2_root_mean_squared_error: 0.5940 - val_loss: 0.3202 - val_output_1_loss: 0.3144 - val_output_2_loss: 0.3720 - val_output_1_root_mean_squared_error: 0.5607 - val_output_2_root_mean_squared_error: 0.6099\n",
      "Epoch 10/20\n",
      "413/413 [==============================] - 3s 8ms/step - loss: 0.3087 - output_1_loss: 0.3035 - output_2_loss: 0.3554 - output_1_root_mean_squared_error: 0.5509 - output_2_root_mean_squared_error: 0.5962 - val_loss: 0.3194 - val_output_1_loss: 0.3133 - val_output_2_loss: 0.3747 - val_output_1_root_mean_squared_error: 0.5597 - val_output_2_root_mean_squared_error: 0.6121\n",
      "Epoch 11/20\n",
      "413/413 [==============================] - 3s 8ms/step - loss: 0.3010 - output_1_loss: 0.2957 - output_2_loss: 0.3486 - output_1_root_mean_squared_error: 0.5438 - output_2_root_mean_squared_error: 0.5904 - val_loss: 0.3133 - val_output_1_loss: 0.3079 - val_output_2_loss: 0.3621 - val_output_1_root_mean_squared_error: 0.5549 - val_output_2_root_mean_squared_error: 0.6017\n",
      "Epoch 12/20\n",
      "413/413 [==============================] - 3s 8ms/step - loss: 0.3007 - output_1_loss: 0.2952 - output_2_loss: 0.3499 - output_1_root_mean_squared_error: 0.5433 - output_2_root_mean_squared_error: 0.5915 - val_loss: 0.3132 - val_output_1_loss: 0.3077 - val_output_2_loss: 0.3628 - val_output_1_root_mean_squared_error: 0.5547 - val_output_2_root_mean_squared_error: 0.6023\n",
      "Epoch 13/20\n",
      "413/413 [==============================] - 3s 7ms/step - loss: 0.3003 - output_1_loss: 0.2950 - output_2_loss: 0.3479 - output_1_root_mean_squared_error: 0.5431 - output_2_root_mean_squared_error: 0.5899 - val_loss: 0.3145 - val_output_1_loss: 0.3090 - val_output_2_loss: 0.3639 - val_output_1_root_mean_squared_error: 0.5559 - val_output_2_root_mean_squared_error: 0.6033\n",
      "Epoch 14/20\n",
      "413/413 [==============================] - 3s 7ms/step - loss: 0.2975 - output_1_loss: 0.2923 - output_2_loss: 0.3444 - output_1_root_mean_squared_error: 0.5406 - output_2_root_mean_squared_error: 0.5868 - val_loss: 0.3191 - val_output_1_loss: 0.3137 - val_output_2_loss: 0.3679 - val_output_1_root_mean_squared_error: 0.5601 - val_output_2_root_mean_squared_error: 0.6065\n",
      "Epoch 15/20\n",
      "413/413 [==============================] - 3s 7ms/step - loss: 0.2987 - output_1_loss: 0.2935 - output_2_loss: 0.3457 - output_1_root_mean_squared_error: 0.5418 - output_2_root_mean_squared_error: 0.5880 - val_loss: 0.3185 - val_output_1_loss: 0.3131 - val_output_2_loss: 0.3667 - val_output_1_root_mean_squared_error: 0.5596 - val_output_2_root_mean_squared_error: 0.6056\n",
      "Epoch 16/20\n",
      "413/413 [==============================] - 3s 7ms/step - loss: 0.2957 - output_1_loss: 0.2907 - output_2_loss: 0.3408 - output_1_root_mean_squared_error: 0.5391 - output_2_root_mean_squared_error: 0.5838 - val_loss: 0.3065 - val_output_1_loss: 0.3009 - val_output_2_loss: 0.3563 - val_output_1_root_mean_squared_error: 0.5486 - val_output_2_root_mean_squared_error: 0.5969\n",
      "Epoch 17/20\n",
      "413/413 [==============================] - 3s 7ms/step - loss: 0.2950 - output_1_loss: 0.2898 - output_2_loss: 0.3411 - output_1_root_mean_squared_error: 0.5384 - output_2_root_mean_squared_error: 0.5840 - val_loss: 0.3206 - val_output_1_loss: 0.3152 - val_output_2_loss: 0.3697 - val_output_1_root_mean_squared_error: 0.5614 - val_output_2_root_mean_squared_error: 0.6080\n",
      "Epoch 18/20\n",
      "413/413 [==============================] - 3s 7ms/step - loss: 0.2962 - output_1_loss: 0.2911 - output_2_loss: 0.3413 - output_1_root_mean_squared_error: 0.5396 - output_2_root_mean_squared_error: 0.5842 - val_loss: 0.3045 - val_output_1_loss: 0.2991 - val_output_2_loss: 0.3531 - val_output_1_root_mean_squared_error: 0.5469 - val_output_2_root_mean_squared_error: 0.5942\n",
      "Epoch 19/20\n",
      "413/413 [==============================] - 3s 7ms/step - loss: 0.2948 - output_1_loss: 0.2897 - output_2_loss: 0.3406 - output_1_root_mean_squared_error: 0.5382 - output_2_root_mean_squared_error: 0.5836 - val_loss: 0.3178 - val_output_1_loss: 0.3123 - val_output_2_loss: 0.3675 - val_output_1_root_mean_squared_error: 0.5588 - val_output_2_root_mean_squared_error: 0.6062\n",
      "Epoch 20/20\n",
      "413/413 [==============================] - 3s 8ms/step - loss: 0.2937 - output_1_loss: 0.2886 - output_2_loss: 0.3390 - output_1_root_mean_squared_error: 0.5372 - output_2_root_mean_squared_error: 0.5822 - val_loss: 0.3174 - val_output_1_loss: 0.3119 - val_output_2_loss: 0.3669 - val_output_1_root_mean_squared_error: 0.5585 - val_output_2_root_mean_squared_error: 0.6057\n"
     ]
    }
   ],
   "source": [
    "early_stopping_cb = tf.keras.callbacks.EarlyStopping(patience=10, restore_best_weights=True)\n",
    "\n",
    "model_history = loaded_model.fit((X_train_wide, X_train_deep), (y_train, y_train),\n",
    "                                 epochs=20, \n",
    "                                 validation_data=((X_valid_wide, X_valid_deep), (y_valid, y_valid)), \n",
    "                                 callbacks=[checkpoint_cb, early_stopping_cb])\n",
    "\n",
    "\n"
   ]
  },
  {
   "cell_type": "code",
   "execution_count": 30,
   "id": "3de19756",
   "metadata": {
    "scrolled": true
   },
   "outputs": [],
   "source": [
    "# Hyperparameter Tuning\n",
    "import keras_tuner as kt\n",
    "import tensorflow as tf\n",
    "from tensorflow.keras.optimizers.legacy import Adam\n",
    "from tensorflow.keras.optimizers.legacy import SGD\n",
    "\n",
    "def model_build(hp):\n",
    "    n_hidden = hp.Int(\"n_hidden\", min_value = 0, max_value = 8, default = 2)\n",
    "    n_neurons = hp.Int(\"n_neurons\", min_value = 16, max_value = 256)\n",
    "    learning_rate = hp.Float(\"learning_rate\", min_value = 1e-4, max_value = 1e-2, sampling = \"log\")\n",
    "    optimizer = hp.Choice(\"optimizer\", values = [\"sgd\"])\n",
    "    \n",
    "    if optimizer == \"sgd\":\n",
    "        optimizer = tf.keras.optimizers.legacy.SGD(learning_rate = learning_rate)\n",
    "    elif optimizer == \"Adam\":\n",
    "        optimizer = tf.keras.optimizers.legacy.Adam(learning_rate = learning_rate)\n",
    "        \n",
    "    model = tf.keras.Sequential()\n",
    "    \n",
    "    model.add(tf.keras.layers.Flatten())\n",
    "    for _ in range(n_hidden):\n",
    "        model.add(tf.keras.layers.Dense(n_neurons, activation = \"relu\"))\n",
    "        \n",
    "    model.add(tf.keras.layers.Dense(10, activation = \"softmax\"))\n",
    "    model.compile(loss = \"sparse_categorical_crossentropy\", optimizer = optimizer, metrics = [\"accuracy\"])\n",
    "    \n",
    "    return model\n",
    "    \n",
    "        \n",
    "    "
   ]
  },
  {
   "cell_type": "code",
   "execution_count": 31,
   "id": "0ada4071",
   "metadata": {},
   "outputs": [],
   "source": [
    "from sklearn.model_selection import train_test_split\n",
    "fashion_mnist = tf.keras.datasets.fashion_mnist.load_data()\n",
    "(X_train_full, y_train_full), (X_test, y_test) = fashion_mnist\n",
    "X_train, X_valid, y_train, y_valid = train_test_split(X_train_full, y_train_full, test_size=0.083)"
   ]
  },
  {
   "cell_type": "code",
   "execution_count": 32,
   "id": "87524232",
   "metadata": {
    "scrolled": false
   },
   "outputs": [
    {
     "name": "stdout",
     "output_type": "stream",
     "text": [
      "Trial 5 Complete [00h 01m 36s]\n",
      "val_accuracy: 0.8230924010276794\n",
      "\n",
      "Best val_accuracy So Far: 0.8568273186683655\n",
      "Total elapsed time: 00h 08m 12s\n",
      "INFO:tensorflow:Oracle triggered exit\n"
     ]
    }
   ],
   "source": [
    "random_search_tuner = kt.RandomSearch(model_build, objective = \"val_accuracy\", max_trials = 5, overwrite = True,\n",
    "                                     directory = \"my_fashion_mnist\", project_name = \"my_rnd_search\", seed = 42)\n",
    "\n",
    "random_search_tuner.search(X_train, y_train, epochs = 10, validation_data = (X_valid, y_valid))"
   ]
  },
  {
   "cell_type": "code",
   "execution_count": 35,
   "id": "df23ce32",
   "metadata": {},
   "outputs": [
    {
     "data": {
      "text/plain": [
       "<keras.engine.sequential.Sequential at 0x2c36e2980>"
      ]
     },
     "execution_count": 35,
     "metadata": {},
     "output_type": "execute_result"
    }
   ],
   "source": [
    "top_models = random_search_tuner.get_best_models(num_models = 3)\n",
    "top_models[0]"
   ]
  },
  {
   "cell_type": "code",
   "execution_count": 37,
   "id": "e78e4d34",
   "metadata": {},
   "outputs": [
    {
     "data": {
      "text/plain": [
       "{'n_hidden': 7,\n",
       " 'n_neurons': 100,\n",
       " 'learning_rate': 0.0012482904754698163,\n",
       " 'optimizer': 'sgd'}"
      ]
     },
     "execution_count": 37,
     "metadata": {},
     "output_type": "execute_result"
    }
   ],
   "source": [
    "top_parameters = random_search_tuner.get_best_hyperparameters(num_trials = 3)\n",
    "top_parameters[0].values"
   ]
  },
  {
   "cell_type": "code",
   "execution_count": 43,
   "id": "fd5be9ab",
   "metadata": {},
   "outputs": [],
   "source": [
    "class MyClassificationModel(kt.HyperModel):\n",
    "    def build(self, hp):\n",
    "        return model_build(hp)\n",
    "\n",
    "    def fit(self, hp, model, X, y, **kwargs):\n",
    "        if hp.Boolean(\"Normalize\"):\n",
    "            norm_layer = tf.keras.layers.Normalization()\n",
    "            X = norm_layer(X)\n",
    "        return model.fit(X, y, **kwargs)\n",
    "    \n",
    "    \n",
    "early_stopping_cb = tf.keras.callbacks.EarlyStopping(patience=2)\n",
    "        \n",
    "hyperband_tuner = kt.Hyperband(MyClassificationModel(), objective = \"val_accuracy\", seed = 42, \n",
    "                              max_epochs = 10, factor = 3, hyperband_iterations = 2,\n",
    "                              overwrite=True, directory = \"my_fashion_mnist\", \n",
    "                               project_name = \"hyperband\")\n",
    "        "
   ]
  },
  {
   "cell_type": "code",
   "execution_count": 44,
   "id": "a970c5af",
   "metadata": {},
   "outputs": [
    {
     "name": "stdout",
     "output_type": "stream",
     "text": [
      "Trial 60 Complete [00h 01m 26s]\n",
      "val_accuracy: 0.8331325650215149\n",
      "\n",
      "Best val_accuracy So Far: 0.8580321669578552\n",
      "Total elapsed time: 00h 34m 09s\n",
      "INFO:tensorflow:Oracle triggered exit\n"
     ]
    }
   ],
   "source": [
    "hyperband_tuner.search(X_train, y_train, epochs = 10,\n",
    "                       validation_data = (X_valid, y_valid),\n",
    "                       callbacks = [early_stopping_cb])"
   ]
  },
  {
   "cell_type": "code",
   "execution_count": 48,
   "id": "003258a3",
   "metadata": {},
   "outputs": [],
   "source": [
    "bayesian_tuner = kt.BayesianOptimization(MyClassificationModel(), objective = \"val_accuracy\",\n",
    "                                        seed = 42, max_trials = 10, alpha = 1e-4, beta = 2.6, \n",
    "                                        overwrite = True, directory = \"my_fashion_mnist\", \n",
    "                                        project_name = \"bayesian_optimization\")"
   ]
  },
  {
   "cell_type": "code",
   "execution_count": 55,
   "id": "3157c188",
   "metadata": {},
   "outputs": [
    {
     "ename": "AttributeError",
     "evalue": "module 'numpy' has no attribute 'float'.\n`np.float` was a deprecated alias for the builtin `float`. To avoid this error in existing code, use `float` by itself. Doing this will not modify any behavior and is safe. If you specifically wanted the numpy scalar type, use `np.float64` here.\nThe aliases was originally deprecated in NumPy 1.20; for more details and guidance see the original release note at:\n    https://numpy.org/devdocs/release/1.20.0-notes.html#deprecations",
     "output_type": "error",
     "traceback": [
      "\u001b[0;31m---------------------------------------------------------------------------\u001b[0m",
      "\u001b[0;31mAttributeError\u001b[0m                            Traceback (most recent call last)",
      "Cell \u001b[0;32mIn[55], line 2\u001b[0m\n\u001b[1;32m      1\u001b[0m \u001b[38;5;66;03m# cant search because of numpy compatibility issues(Can't solve)\u001b[39;00m\n\u001b[0;32m----> 2\u001b[0m \u001b[43mbayesian_tuner\u001b[49m\u001b[38;5;241;43m.\u001b[39;49m\u001b[43msearch\u001b[49m\u001b[43m(\u001b[49m\u001b[43mX_train\u001b[49m\u001b[43m,\u001b[49m\u001b[43m \u001b[49m\u001b[43my_train\u001b[49m\u001b[43m,\u001b[49m\u001b[43m \u001b[49m\u001b[43mepochs\u001b[49m\u001b[43m \u001b[49m\u001b[38;5;241;43m=\u001b[39;49m\u001b[43m \u001b[49m\u001b[38;5;241;43m10\u001b[39;49m\u001b[43m,\u001b[49m\u001b[43m \u001b[49m\u001b[43mvalidation_data\u001b[49m\u001b[43m \u001b[49m\u001b[38;5;241;43m=\u001b[39;49m\u001b[43m \u001b[49m\u001b[43m(\u001b[49m\u001b[43mX_valid\u001b[49m\u001b[43m,\u001b[49m\u001b[43m \u001b[49m\u001b[43my_valid\u001b[49m\u001b[43m)\u001b[49m\u001b[43m)\u001b[49m\n",
      "File \u001b[0;32m~/miniconda3/envs/tensorflow/lib/python3.10/site-packages/keras_tuner/engine/base_tuner.py:173\u001b[0m, in \u001b[0;36mBaseTuner.search\u001b[0;34m(self, *fit_args, **fit_kwargs)\u001b[0m\n\u001b[1;32m    171\u001b[0m \u001b[38;5;28;01mwhile\u001b[39;00m \u001b[38;5;28;01mTrue\u001b[39;00m:\n\u001b[1;32m    172\u001b[0m     \u001b[38;5;28mself\u001b[39m\u001b[38;5;241m.\u001b[39mpre_create_trial()\n\u001b[0;32m--> 173\u001b[0m     trial \u001b[38;5;241m=\u001b[39m \u001b[38;5;28;43mself\u001b[39;49m\u001b[38;5;241;43m.\u001b[39;49m\u001b[43moracle\u001b[49m\u001b[38;5;241;43m.\u001b[39;49m\u001b[43mcreate_trial\u001b[49m\u001b[43m(\u001b[49m\u001b[38;5;28;43mself\u001b[39;49m\u001b[38;5;241;43m.\u001b[39;49m\u001b[43mtuner_id\u001b[49m\u001b[43m)\u001b[49m\n\u001b[1;32m    174\u001b[0m     \u001b[38;5;28;01mif\u001b[39;00m trial\u001b[38;5;241m.\u001b[39mstatus \u001b[38;5;241m==\u001b[39m trial_module\u001b[38;5;241m.\u001b[39mTrialStatus\u001b[38;5;241m.\u001b[39mSTOPPED:\n\u001b[1;32m    175\u001b[0m         \u001b[38;5;66;03m# Oracle triggered exit.\u001b[39;00m\n\u001b[1;32m    176\u001b[0m         tf\u001b[38;5;241m.\u001b[39mget_logger()\u001b[38;5;241m.\u001b[39minfo(\u001b[38;5;124m\"\u001b[39m\u001b[38;5;124mOracle triggered exit\u001b[39m\u001b[38;5;124m\"\u001b[39m)\n",
      "File \u001b[0;32m~/miniconda3/envs/tensorflow/lib/python3.10/site-packages/keras_tuner/engine/oracle.py:194\u001b[0m, in \u001b[0;36mOracle.create_trial\u001b[0;34m(self, tuner_id)\u001b[0m\n\u001b[1;32m    192\u001b[0m     values \u001b[38;5;241m=\u001b[39m \u001b[38;5;28;01mNone\u001b[39;00m\n\u001b[1;32m    193\u001b[0m \u001b[38;5;28;01melse\u001b[39;00m:\n\u001b[0;32m--> 194\u001b[0m     response \u001b[38;5;241m=\u001b[39m \u001b[38;5;28;43mself\u001b[39;49m\u001b[38;5;241;43m.\u001b[39;49m\u001b[43mpopulate_space\u001b[49m\u001b[43m(\u001b[49m\u001b[43mtrial_id\u001b[49m\u001b[43m)\u001b[49m\n\u001b[1;32m    195\u001b[0m     status \u001b[38;5;241m=\u001b[39m response[\u001b[38;5;124m\"\u001b[39m\u001b[38;5;124mstatus\u001b[39m\u001b[38;5;124m\"\u001b[39m]\n\u001b[1;32m    196\u001b[0m     values \u001b[38;5;241m=\u001b[39m response[\u001b[38;5;124m\"\u001b[39m\u001b[38;5;124mvalues\u001b[39m\u001b[38;5;124m\"\u001b[39m] \u001b[38;5;28;01mif\u001b[39;00m \u001b[38;5;124m\"\u001b[39m\u001b[38;5;124mvalues\u001b[39m\u001b[38;5;124m\"\u001b[39m \u001b[38;5;129;01min\u001b[39;00m response \u001b[38;5;28;01melse\u001b[39;00m \u001b[38;5;28;01mNone\u001b[39;00m\n",
      "File \u001b[0;32m~/miniconda3/envs/tensorflow/lib/python3.10/site-packages/keras_tuner/tuners/bayesian.py:270\u001b[0m, in \u001b[0;36mBayesianOptimizationOracle.populate_space\u001b[0;34m(self, trial_id)\u001b[0m\n\u001b[1;32m    265\u001b[0m x_seeds \u001b[38;5;241m=\u001b[39m \u001b[38;5;28mself\u001b[39m\u001b[38;5;241m.\u001b[39m_random_state\u001b[38;5;241m.\u001b[39muniform(\n\u001b[1;32m    266\u001b[0m     bounds[:, \u001b[38;5;241m0\u001b[39m], bounds[:, \u001b[38;5;241m1\u001b[39m], size\u001b[38;5;241m=\u001b[39m(num_restarts, bounds\u001b[38;5;241m.\u001b[39mshape[\u001b[38;5;241m0\u001b[39m])\n\u001b[1;32m    267\u001b[0m )\n\u001b[1;32m    268\u001b[0m \u001b[38;5;28;01mfor\u001b[39;00m x_try \u001b[38;5;129;01min\u001b[39;00m x_seeds:\n\u001b[1;32m    269\u001b[0m     \u001b[38;5;66;03m# Sign of score is flipped when maximizing.\u001b[39;00m\n\u001b[0;32m--> 270\u001b[0m     result \u001b[38;5;241m=\u001b[39m \u001b[43mscipy\u001b[49m\u001b[38;5;241;43m.\u001b[39;49m\u001b[43moptimize\u001b[49m\u001b[38;5;241;43m.\u001b[39;49m\u001b[43mminimize\u001b[49m\u001b[43m(\u001b[49m\n\u001b[1;32m    271\u001b[0m \u001b[43m        \u001b[49m\u001b[43m_upper_confidence_bound\u001b[49m\u001b[43m,\u001b[49m\u001b[43m \u001b[49m\u001b[43mx0\u001b[49m\u001b[38;5;241;43m=\u001b[39;49m\u001b[43mx_try\u001b[49m\u001b[43m,\u001b[49m\u001b[43m \u001b[49m\u001b[43mbounds\u001b[49m\u001b[38;5;241;43m=\u001b[39;49m\u001b[43mbounds\u001b[49m\u001b[43m,\u001b[49m\u001b[43m \u001b[49m\u001b[43mmethod\u001b[49m\u001b[38;5;241;43m=\u001b[39;49m\u001b[38;5;124;43m\"\u001b[39;49m\u001b[38;5;124;43mL-BFGS-B\u001b[39;49m\u001b[38;5;124;43m\"\u001b[39;49m\n\u001b[1;32m    272\u001b[0m \u001b[43m    \u001b[49m\u001b[43m)\u001b[49m\n\u001b[1;32m    273\u001b[0m     result_fun \u001b[38;5;241m=\u001b[39m result\u001b[38;5;241m.\u001b[39mfun \u001b[38;5;28;01mif\u001b[39;00m np\u001b[38;5;241m.\u001b[39misscalar(result\u001b[38;5;241m.\u001b[39mfun) \u001b[38;5;28;01melse\u001b[39;00m result\u001b[38;5;241m.\u001b[39mfun[\u001b[38;5;241m0\u001b[39m]\n\u001b[1;32m    274\u001b[0m     \u001b[38;5;28;01mif\u001b[39;00m result_fun \u001b[38;5;241m<\u001b[39m optimal_val:\n",
      "File \u001b[0;32m~/miniconda3/envs/tensorflow/lib/python3.10/site-packages/scipy/optimize/_minimize.py:696\u001b[0m, in \u001b[0;36mminimize\u001b[0;34m(fun, x0, args, method, jac, hess, hessp, bounds, constraints, tol, callback, options)\u001b[0m\n\u001b[1;32m    693\u001b[0m     res \u001b[38;5;241m=\u001b[39m _minimize_newtoncg(fun, x0, args, jac, hess, hessp, callback,\n\u001b[1;32m    694\u001b[0m                              \u001b[38;5;241m*\u001b[39m\u001b[38;5;241m*\u001b[39moptions)\n\u001b[1;32m    695\u001b[0m \u001b[38;5;28;01melif\u001b[39;00m meth \u001b[38;5;241m==\u001b[39m \u001b[38;5;124m'\u001b[39m\u001b[38;5;124ml-bfgs-b\u001b[39m\u001b[38;5;124m'\u001b[39m:\n\u001b[0;32m--> 696\u001b[0m     res \u001b[38;5;241m=\u001b[39m \u001b[43m_minimize_lbfgsb\u001b[49m\u001b[43m(\u001b[49m\u001b[43mfun\u001b[49m\u001b[43m,\u001b[49m\u001b[43m \u001b[49m\u001b[43mx0\u001b[49m\u001b[43m,\u001b[49m\u001b[43m \u001b[49m\u001b[43margs\u001b[49m\u001b[43m,\u001b[49m\u001b[43m \u001b[49m\u001b[43mjac\u001b[49m\u001b[43m,\u001b[49m\u001b[43m \u001b[49m\u001b[43mbounds\u001b[49m\u001b[43m,\u001b[49m\n\u001b[1;32m    697\u001b[0m \u001b[43m                           \u001b[49m\u001b[43mcallback\u001b[49m\u001b[38;5;241;43m=\u001b[39;49m\u001b[43mcallback\u001b[49m\u001b[43m,\u001b[49m\u001b[43m \u001b[49m\u001b[38;5;241;43m*\u001b[39;49m\u001b[38;5;241;43m*\u001b[39;49m\u001b[43moptions\u001b[49m\u001b[43m)\u001b[49m\n\u001b[1;32m    698\u001b[0m \u001b[38;5;28;01melif\u001b[39;00m meth \u001b[38;5;241m==\u001b[39m \u001b[38;5;124m'\u001b[39m\u001b[38;5;124mtnc\u001b[39m\u001b[38;5;124m'\u001b[39m:\n\u001b[1;32m    699\u001b[0m     res \u001b[38;5;241m=\u001b[39m _minimize_tnc(fun, x0, args, jac, bounds, callback\u001b[38;5;241m=\u001b[39mcallback,\n\u001b[1;32m    700\u001b[0m                         \u001b[38;5;241m*\u001b[39m\u001b[38;5;241m*\u001b[39moptions)\n",
      "File \u001b[0;32m~/miniconda3/envs/tensorflow/lib/python3.10/site-packages/scipy/optimize/_lbfgsb_py.py:305\u001b[0m, in \u001b[0;36m_minimize_lbfgsb\u001b[0;34m(fun, x0, args, jac, bounds, disp, maxcor, ftol, gtol, eps, maxfun, maxiter, iprint, callback, maxls, finite_diff_rel_step, **unknown_options)\u001b[0m\n\u001b[1;32m    302\u001b[0m     \u001b[38;5;28;01melse\u001b[39;00m:\n\u001b[1;32m    303\u001b[0m         iprint \u001b[38;5;241m=\u001b[39m disp\n\u001b[0;32m--> 305\u001b[0m sf \u001b[38;5;241m=\u001b[39m \u001b[43m_prepare_scalar_function\u001b[49m\u001b[43m(\u001b[49m\u001b[43mfun\u001b[49m\u001b[43m,\u001b[49m\u001b[43m \u001b[49m\u001b[43mx0\u001b[49m\u001b[43m,\u001b[49m\u001b[43m \u001b[49m\u001b[43mjac\u001b[49m\u001b[38;5;241;43m=\u001b[39;49m\u001b[43mjac\u001b[49m\u001b[43m,\u001b[49m\u001b[43m \u001b[49m\u001b[43margs\u001b[49m\u001b[38;5;241;43m=\u001b[39;49m\u001b[43margs\u001b[49m\u001b[43m,\u001b[49m\u001b[43m \u001b[49m\u001b[43mepsilon\u001b[49m\u001b[38;5;241;43m=\u001b[39;49m\u001b[43meps\u001b[49m\u001b[43m,\u001b[49m\n\u001b[1;32m    306\u001b[0m \u001b[43m                              \u001b[49m\u001b[43mbounds\u001b[49m\u001b[38;5;241;43m=\u001b[39;49m\u001b[43mnew_bounds\u001b[49m\u001b[43m,\u001b[49m\n\u001b[1;32m    307\u001b[0m \u001b[43m                              \u001b[49m\u001b[43mfinite_diff_rel_step\u001b[49m\u001b[38;5;241;43m=\u001b[39;49m\u001b[43mfinite_diff_rel_step\u001b[49m\u001b[43m)\u001b[49m\n\u001b[1;32m    309\u001b[0m func_and_grad \u001b[38;5;241m=\u001b[39m sf\u001b[38;5;241m.\u001b[39mfun_and_grad\n\u001b[1;32m    311\u001b[0m fortran_int \u001b[38;5;241m=\u001b[39m _lbfgsb\u001b[38;5;241m.\u001b[39mtypes\u001b[38;5;241m.\u001b[39mintvar\u001b[38;5;241m.\u001b[39mdtype\n",
      "File \u001b[0;32m~/miniconda3/envs/tensorflow/lib/python3.10/site-packages/scipy/optimize/_optimize.py:332\u001b[0m, in \u001b[0;36m_prepare_scalar_function\u001b[0;34m(fun, x0, jac, args, bounds, epsilon, finite_diff_rel_step, hess)\u001b[0m\n\u001b[1;32m    328\u001b[0m     bounds \u001b[38;5;241m=\u001b[39m (\u001b[38;5;241m-\u001b[39mnp\u001b[38;5;241m.\u001b[39minf, np\u001b[38;5;241m.\u001b[39minf)\n\u001b[1;32m    330\u001b[0m \u001b[38;5;66;03m# ScalarFunction caches. Reuse of fun(x) during grad\u001b[39;00m\n\u001b[1;32m    331\u001b[0m \u001b[38;5;66;03m# calculation reduces overall function evaluations.\u001b[39;00m\n\u001b[0;32m--> 332\u001b[0m sf \u001b[38;5;241m=\u001b[39m \u001b[43mScalarFunction\u001b[49m\u001b[43m(\u001b[49m\u001b[43mfun\u001b[49m\u001b[43m,\u001b[49m\u001b[43m \u001b[49m\u001b[43mx0\u001b[49m\u001b[43m,\u001b[49m\u001b[43m \u001b[49m\u001b[43margs\u001b[49m\u001b[43m,\u001b[49m\u001b[43m \u001b[49m\u001b[43mgrad\u001b[49m\u001b[43m,\u001b[49m\u001b[43m \u001b[49m\u001b[43mhess\u001b[49m\u001b[43m,\u001b[49m\n\u001b[1;32m    333\u001b[0m \u001b[43m                    \u001b[49m\u001b[43mfinite_diff_rel_step\u001b[49m\u001b[43m,\u001b[49m\u001b[43m \u001b[49m\u001b[43mbounds\u001b[49m\u001b[43m,\u001b[49m\u001b[43m \u001b[49m\u001b[43mepsilon\u001b[49m\u001b[38;5;241;43m=\u001b[39;49m\u001b[43mepsilon\u001b[49m\u001b[43m)\u001b[49m\n\u001b[1;32m    335\u001b[0m \u001b[38;5;28;01mreturn\u001b[39;00m sf\n",
      "File \u001b[0;32m~/miniconda3/envs/tensorflow/lib/python3.10/site-packages/scipy/optimize/_differentiable_functions.py:158\u001b[0m, in \u001b[0;36mScalarFunction.__init__\u001b[0;34m(self, fun, x0, args, grad, hess, finite_diff_rel_step, finite_diff_bounds, epsilon)\u001b[0m\n\u001b[1;32m    155\u001b[0m     \u001b[38;5;28mself\u001b[39m\u001b[38;5;241m.\u001b[39mf \u001b[38;5;241m=\u001b[39m fun_wrapped(\u001b[38;5;28mself\u001b[39m\u001b[38;5;241m.\u001b[39mx)\n\u001b[1;32m    157\u001b[0m \u001b[38;5;28mself\u001b[39m\u001b[38;5;241m.\u001b[39m_update_fun_impl \u001b[38;5;241m=\u001b[39m update_fun\n\u001b[0;32m--> 158\u001b[0m \u001b[38;5;28;43mself\u001b[39;49m\u001b[38;5;241;43m.\u001b[39;49m\u001b[43m_update_fun\u001b[49m\u001b[43m(\u001b[49m\u001b[43m)\u001b[49m\n\u001b[1;32m    160\u001b[0m \u001b[38;5;66;03m# Gradient evaluation\u001b[39;00m\n\u001b[1;32m    161\u001b[0m \u001b[38;5;28;01mif\u001b[39;00m callable(grad):\n",
      "File \u001b[0;32m~/miniconda3/envs/tensorflow/lib/python3.10/site-packages/scipy/optimize/_differentiable_functions.py:251\u001b[0m, in \u001b[0;36mScalarFunction._update_fun\u001b[0;34m(self)\u001b[0m\n\u001b[1;32m    249\u001b[0m \u001b[38;5;28;01mdef\u001b[39;00m \u001b[38;5;21m_update_fun\u001b[39m(\u001b[38;5;28mself\u001b[39m):\n\u001b[1;32m    250\u001b[0m     \u001b[38;5;28;01mif\u001b[39;00m \u001b[38;5;129;01mnot\u001b[39;00m \u001b[38;5;28mself\u001b[39m\u001b[38;5;241m.\u001b[39mf_updated:\n\u001b[0;32m--> 251\u001b[0m         \u001b[38;5;28;43mself\u001b[39;49m\u001b[38;5;241;43m.\u001b[39;49m\u001b[43m_update_fun_impl\u001b[49m\u001b[43m(\u001b[49m\u001b[43m)\u001b[49m\n\u001b[1;32m    252\u001b[0m         \u001b[38;5;28mself\u001b[39m\u001b[38;5;241m.\u001b[39mf_updated \u001b[38;5;241m=\u001b[39m \u001b[38;5;28;01mTrue\u001b[39;00m\n",
      "File \u001b[0;32m~/miniconda3/envs/tensorflow/lib/python3.10/site-packages/scipy/optimize/_differentiable_functions.py:155\u001b[0m, in \u001b[0;36mScalarFunction.__init__.<locals>.update_fun\u001b[0;34m()\u001b[0m\n\u001b[1;32m    154\u001b[0m \u001b[38;5;28;01mdef\u001b[39;00m \u001b[38;5;21mupdate_fun\u001b[39m():\n\u001b[0;32m--> 155\u001b[0m     \u001b[38;5;28mself\u001b[39m\u001b[38;5;241m.\u001b[39mf \u001b[38;5;241m=\u001b[39m \u001b[43mfun_wrapped\u001b[49m\u001b[43m(\u001b[49m\u001b[38;5;28;43mself\u001b[39;49m\u001b[38;5;241;43m.\u001b[39;49m\u001b[43mx\u001b[49m\u001b[43m)\u001b[49m\n",
      "File \u001b[0;32m~/miniconda3/envs/tensorflow/lib/python3.10/site-packages/scipy/optimize/_differentiable_functions.py:137\u001b[0m, in \u001b[0;36mScalarFunction.__init__.<locals>.fun_wrapped\u001b[0;34m(x)\u001b[0m\n\u001b[1;32m    133\u001b[0m \u001b[38;5;28mself\u001b[39m\u001b[38;5;241m.\u001b[39mnfev \u001b[38;5;241m+\u001b[39m\u001b[38;5;241m=\u001b[39m \u001b[38;5;241m1\u001b[39m\n\u001b[1;32m    134\u001b[0m \u001b[38;5;66;03m# Send a copy because the user may overwrite it.\u001b[39;00m\n\u001b[1;32m    135\u001b[0m \u001b[38;5;66;03m# Overwriting results in undefined behaviour because\u001b[39;00m\n\u001b[1;32m    136\u001b[0m \u001b[38;5;66;03m# fun(self.x) will change self.x, with the two no longer linked.\u001b[39;00m\n\u001b[0;32m--> 137\u001b[0m fx \u001b[38;5;241m=\u001b[39m \u001b[43mfun\u001b[49m\u001b[43m(\u001b[49m\u001b[43mnp\u001b[49m\u001b[38;5;241;43m.\u001b[39;49m\u001b[43mcopy\u001b[49m\u001b[43m(\u001b[49m\u001b[43mx\u001b[49m\u001b[43m)\u001b[49m\u001b[43m,\u001b[49m\u001b[43m \u001b[49m\u001b[38;5;241;43m*\u001b[39;49m\u001b[43margs\u001b[49m\u001b[43m)\u001b[49m\n\u001b[1;32m    138\u001b[0m \u001b[38;5;66;03m# Make sure the function returns a true scalar\u001b[39;00m\n\u001b[1;32m    139\u001b[0m \u001b[38;5;28;01mif\u001b[39;00m \u001b[38;5;129;01mnot\u001b[39;00m np\u001b[38;5;241m.\u001b[39misscalar(fx):\n",
      "File \u001b[0;32m~/miniconda3/envs/tensorflow/lib/python3.10/site-packages/keras_tuner/tuners/bayesian.py:258\u001b[0m, in \u001b[0;36mBayesianOptimizationOracle.populate_space.<locals>._upper_confidence_bound\u001b[0;34m(x)\u001b[0m\n\u001b[1;32m    256\u001b[0m \u001b[38;5;28;01mdef\u001b[39;00m \u001b[38;5;21m_upper_confidence_bound\u001b[39m(x):\n\u001b[1;32m    257\u001b[0m     x \u001b[38;5;241m=\u001b[39m x\u001b[38;5;241m.\u001b[39mreshape(\u001b[38;5;241m1\u001b[39m, \u001b[38;5;241m-\u001b[39m\u001b[38;5;241m1\u001b[39m)\n\u001b[0;32m--> 258\u001b[0m     mu, sigma \u001b[38;5;241m=\u001b[39m \u001b[38;5;28;43mself\u001b[39;49m\u001b[38;5;241;43m.\u001b[39;49m\u001b[43mgpr\u001b[49m\u001b[38;5;241;43m.\u001b[39;49m\u001b[43mpredict\u001b[49m\u001b[43m(\u001b[49m\u001b[43mx\u001b[49m\u001b[43m)\u001b[49m\n\u001b[1;32m    259\u001b[0m     \u001b[38;5;28;01mreturn\u001b[39;00m mu \u001b[38;5;241m-\u001b[39m \u001b[38;5;28mself\u001b[39m\u001b[38;5;241m.\u001b[39mbeta \u001b[38;5;241m*\u001b[39m sigma\n",
      "File \u001b[0;32m~/miniconda3/envs/tensorflow/lib/python3.10/site-packages/keras_tuner/tuners/bayesian.py:123\u001b[0m, in \u001b[0;36mGaussianProcessRegressor.predict\u001b[0;34m(self, x)\u001b[0m\n\u001b[1;32m    118\u001b[0m l_inv \u001b[38;5;241m=\u001b[39m solve_triangular(\n\u001b[1;32m    119\u001b[0m     \u001b[38;5;28mself\u001b[39m\u001b[38;5;241m.\u001b[39m_l_matrix\u001b[38;5;241m.\u001b[39mT, np\u001b[38;5;241m.\u001b[39meye(\u001b[38;5;28mself\u001b[39m\u001b[38;5;241m.\u001b[39m_l_matrix\u001b[38;5;241m.\u001b[39mshape[\u001b[38;5;241m0\u001b[39m]), lower\u001b[38;5;241m=\u001b[39m\u001b[38;5;28;01mFalse\u001b[39;00m\n\u001b[1;32m    120\u001b[0m )\n\u001b[1;32m    121\u001b[0m kernel_inv \u001b[38;5;241m=\u001b[39m l_inv\u001b[38;5;241m.\u001b[39mdot(l_inv\u001b[38;5;241m.\u001b[39mT)\n\u001b[0;32m--> 123\u001b[0m y_var \u001b[38;5;241m=\u001b[39m np\u001b[38;5;241m.\u001b[39mones(\u001b[38;5;28mlen\u001b[39m(x), dtype\u001b[38;5;241m=\u001b[39m\u001b[43mnp\u001b[49m\u001b[38;5;241;43m.\u001b[39;49m\u001b[43mfloat\u001b[49m)\n\u001b[1;32m    124\u001b[0m y_var \u001b[38;5;241m-\u001b[39m\u001b[38;5;241m=\u001b[39m np\u001b[38;5;241m.\u001b[39meinsum(\n\u001b[1;32m    125\u001b[0m     \u001b[38;5;124m\"\u001b[39m\u001b[38;5;124mij,ij->i\u001b[39m\u001b[38;5;124m\"\u001b[39m, np\u001b[38;5;241m.\u001b[39mdot(kernel_trans, kernel_inv), kernel_trans\n\u001b[1;32m    126\u001b[0m )\n\u001b[1;32m    127\u001b[0m y_var[y_var \u001b[38;5;241m<\u001b[39m \u001b[38;5;241m0\u001b[39m] \u001b[38;5;241m=\u001b[39m \u001b[38;5;241m0.0\u001b[39m\n",
      "File \u001b[0;32m~/miniconda3/envs/tensorflow/lib/python3.10/site-packages/numpy/__init__.py:305\u001b[0m, in \u001b[0;36m__getattr__\u001b[0;34m(attr)\u001b[0m\n\u001b[1;32m    300\u001b[0m     warnings\u001b[38;5;241m.\u001b[39mwarn(\n\u001b[1;32m    301\u001b[0m         \u001b[38;5;124mf\u001b[39m\u001b[38;5;124m\"\u001b[39m\u001b[38;5;124mIn the future `np.\u001b[39m\u001b[38;5;132;01m{\u001b[39;00mattr\u001b[38;5;132;01m}\u001b[39;00m\u001b[38;5;124m` will be defined as the \u001b[39m\u001b[38;5;124m\"\u001b[39m\n\u001b[1;32m    302\u001b[0m         \u001b[38;5;124m\"\u001b[39m\u001b[38;5;124mcorresponding NumPy scalar.\u001b[39m\u001b[38;5;124m\"\u001b[39m, \u001b[38;5;167;01mFutureWarning\u001b[39;00m, stacklevel\u001b[38;5;241m=\u001b[39m\u001b[38;5;241m2\u001b[39m)\n\u001b[1;32m    304\u001b[0m \u001b[38;5;28;01mif\u001b[39;00m attr \u001b[38;5;129;01min\u001b[39;00m __former_attrs__:\n\u001b[0;32m--> 305\u001b[0m     \u001b[38;5;28;01mraise\u001b[39;00m \u001b[38;5;167;01mAttributeError\u001b[39;00m(__former_attrs__[attr])\n\u001b[1;32m    307\u001b[0m \u001b[38;5;66;03m# Importing Tester requires importing all of UnitTest which is not a\u001b[39;00m\n\u001b[1;32m    308\u001b[0m \u001b[38;5;66;03m# cheap import Since it is mainly used in test suits, we lazy import it\u001b[39;00m\n\u001b[1;32m    309\u001b[0m \u001b[38;5;66;03m# here to save on the order of 10 ms of import time for most users\u001b[39;00m\n\u001b[1;32m    310\u001b[0m \u001b[38;5;66;03m#\u001b[39;00m\n\u001b[1;32m    311\u001b[0m \u001b[38;5;66;03m# The previous way Tester was imported also had a side effect of adding\u001b[39;00m\n\u001b[1;32m    312\u001b[0m \u001b[38;5;66;03m# the full `numpy.testing` namespace\u001b[39;00m\n\u001b[1;32m    313\u001b[0m \u001b[38;5;28;01mif\u001b[39;00m attr \u001b[38;5;241m==\u001b[39m \u001b[38;5;124m'\u001b[39m\u001b[38;5;124mtesting\u001b[39m\u001b[38;5;124m'\u001b[39m:\n",
      "\u001b[0;31mAttributeError\u001b[0m: module 'numpy' has no attribute 'float'.\n`np.float` was a deprecated alias for the builtin `float`. To avoid this error in existing code, use `float` by itself. Doing this will not modify any behavior and is safe. If you specifically wanted the numpy scalar type, use `np.float64` here.\nThe aliases was originally deprecated in NumPy 1.20; for more details and guidance see the original release note at:\n    https://numpy.org/devdocs/release/1.20.0-notes.html#deprecations"
     ]
    }
   ],
   "source": [
    "# cant search because of numpy compatibility issues(Can't solve)\n",
    "bayesian_tuner.search(X_train, y_train, epochs = 10, validation_data = (X_valid, y_valid))"
   ]
  },
  {
   "cell_type": "code",
   "execution_count": null,
   "id": "36903644",
   "metadata": {},
   "outputs": [],
   "source": []
  }
 ],
 "metadata": {
  "kernelspec": {
   "display_name": "Python 3.10 (tensorflow)",
   "language": "python",
   "name": "tensorflow"
  },
  "language_info": {
   "codemirror_mode": {
    "name": "ipython",
    "version": 3
   },
   "file_extension": ".py",
   "mimetype": "text/x-python",
   "name": "python",
   "nbconvert_exporter": "python",
   "pygments_lexer": "ipython3",
   "version": "3.10.9"
  }
 },
 "nbformat": 4,
 "nbformat_minor": 5
}
